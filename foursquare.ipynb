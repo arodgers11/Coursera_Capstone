{
 "cells": [
  {
   "cell_type": "markdown",
   "metadata": {},
   "source": [
    "## Toronto Neighborhoods\n",
    "### Andrew Rodgers\n",
    "Import all the necessary modules and make scrape the data from the webpage"
   ]
  },
  {
   "cell_type": "code",
   "execution_count": 226,
   "metadata": {},
   "outputs": [],
   "source": [
    "import requests\n",
    "import urllib.request\n",
    "from bs4 import BeautifulSoup\n",
    "import time\n",
    "import pandas as pd\n",
    "\n",
    "url = \"https://en.wikipedia.org/wiki/List_of_postal_codes_of_Canada:_M\"\n",
    "\n",
    "resp = requests.get(url=url)\n",
    "\n",
    "soup = BeautifulSoup(resp.text,\"html.parser\")"
   ]
  },
  {
   "cell_type": "markdown",
   "metadata": {},
   "source": [
    "Format the html to list, one for the header and another for the data"
   ]
  },
  {
   "cell_type": "code",
   "execution_count": 261,
   "metadata": {},
   "outputs": [],
   "source": [
    "header = []\n",
    "data = []\n",
    "for i in table.findAll('tr'):\n",
    "    for j in i.findAll('th'):\n",
    "        header.append(j.text)\n",
    "    for j in i.findAll('td'):\n",
    "        data.append(j.text)"
   ]
  },
  {
   "cell_type": "markdown",
   "metadata": {},
   "source": [
    "Format the header and data lists into a *pandas* dataframe, **df**"
   ]
  },
  {
   "cell_type": "code",
   "execution_count": 261,
   "metadata": {},
   "outputs": [],
   "source": [
    "header[2] = header[2][0:-1]\n",
    "col1 = []\n",
    "col2 = []\n",
    "col3 = []\n",
    "for i in range(0,len(data),3):\n",
    "    col1.append(data[i])\n",
    "    col2.append(data[i+1])\n",
    "    col3.append(data[i+2])\n",
    "    \n",
    "df = pd.DataFrame(list(zip(col1,col2,col3)),columns = header)"
   ]
  },
  {
   "cell_type": "markdown",
   "metadata": {},
   "source": [
    "Subset **df** so we only use the rows with assigned Boroughs  \n",
    "Use the Borough for the neighborhood name if not assigned"
   ]
  },
  {
   "cell_type": "code",
   "execution_count": 261,
   "metadata": {},
   "outputs": [],
   "source": [
    "df = df[df.Borough != 'Not assigned']\n",
    "\n",
    "for i in range(0,len(df['Postcode'])):\n",
    "    if \"\\n\" in df.iloc[i,2]:\n",
    "        df.iloc[i,2] = df.iloc[i,2][0:-1]\n",
    "    if df.iloc[i,2] == \"Not assigned\":\n",
    "        df.iloc[i,2] = df.iloc[i,1]"
   ]
  },
  {
   "cell_type": "markdown",
   "metadata": {},
   "source": [
    "Sort **df** by Postcode to make searchign easier  \n",
    "Loop through **df** to combine neighborhoods in the same cell, separated by commas"
   ]
  },
  {
   "cell_type": "code",
   "execution_count": 271,
   "metadata": {},
   "outputs": [],
   "source": [
    "df = df.sort_values('Postcode',0)\n",
    "\n",
    "for i in range(0,len(df['Postcode'])):\n",
    "    if df.iloc[i-1,0] == df.iloc[i,0]:\n",
    "        #if df.iloc[i-1,2] in df.iloc[i,2]:\n",
    "        df.iloc[i,2] = df.iloc[i-1,2] + \", \" + df.iloc[i,2]\n",
    "        \n",
    "df = df.drop_duplicates(subset='Postcode', keep='last', inplace=False)"
   ]
  },
  {
   "cell_type": "markdown",
   "metadata": {},
   "source": [
    "Here's a sample of **df**"
   ]
  },
  {
   "cell_type": "code",
   "execution_count": 273,
   "metadata": {},
   "outputs": [
    {
     "data": {
      "text/html": [
       "<div>\n",
       "<style scoped>\n",
       "    .dataframe tbody tr th:only-of-type {\n",
       "        vertical-align: middle;\n",
       "    }\n",
       "\n",
       "    .dataframe tbody tr th {\n",
       "        vertical-align: top;\n",
       "    }\n",
       "\n",
       "    .dataframe thead th {\n",
       "        text-align: right;\n",
       "    }\n",
       "</style>\n",
       "<table border=\"1\" class=\"dataframe\">\n",
       "  <thead>\n",
       "    <tr style=\"text-align: right;\">\n",
       "      <th></th>\n",
       "      <th>Postcode</th>\n",
       "      <th>Borough</th>\n",
       "      <th>Neighbourhood</th>\n",
       "    </tr>\n",
       "  </thead>\n",
       "  <tbody>\n",
       "    <tr>\n",
       "      <th>12</th>\n",
       "      <td>M1B</td>\n",
       "      <td>Scarborough</td>\n",
       "      <td>Rouge, Rouge, Malvern</td>\n",
       "    </tr>\n",
       "    <tr>\n",
       "      <th>63</th>\n",
       "      <td>M2H</td>\n",
       "      <td>North York</td>\n",
       "      <td>Hillcrest Village</td>\n",
       "    </tr>\n",
       "    <tr>\n",
       "      <th>16</th>\n",
       "      <td>M4B</td>\n",
       "      <td>East York</td>\n",
       "      <td>Woodbine Gardens, Woodbine Gardens, Parkview Hill</td>\n",
       "    </tr>\n",
       "    <tr>\n",
       "      <th>47</th>\n",
       "      <td>M4E</td>\n",
       "      <td>East Toronto</td>\n",
       "      <td>The Beaches</td>\n",
       "    </tr>\n",
       "    <tr>\n",
       "      <th>144</th>\n",
       "      <td>M4N</td>\n",
       "      <td>Central Toronto</td>\n",
       "      <td>Lawrence Park</td>\n",
       "    </tr>\n",
       "    <tr>\n",
       "      <th>239</th>\n",
       "      <td>M4W</td>\n",
       "      <td>Downtown Toronto</td>\n",
       "      <td>Rosedale</td>\n",
       "    </tr>\n",
       "    <tr>\n",
       "      <th>35</th>\n",
       "      <td>M6C</td>\n",
       "      <td>York</td>\n",
       "      <td>Humewood-Cedarvale</td>\n",
       "    </tr>\n",
       "    <tr>\n",
       "      <th>72</th>\n",
       "      <td>M6H</td>\n",
       "      <td>West Toronto</td>\n",
       "      <td>Dovercourt Village, Dovercourt Village, Dufferin</td>\n",
       "    </tr>\n",
       "    <tr>\n",
       "      <th>8</th>\n",
       "      <td>M7A</td>\n",
       "      <td>Queen's Park</td>\n",
       "      <td>Queen's Park</td>\n",
       "    </tr>\n",
       "    <tr>\n",
       "      <th>174</th>\n",
       "      <td>M7R</td>\n",
       "      <td>Mississauga</td>\n",
       "      <td>Canada Post Gateway Processing Centre</td>\n",
       "    </tr>\n",
       "    <tr>\n",
       "      <th>225</th>\n",
       "      <td>M8V</td>\n",
       "      <td>Etobicoke</td>\n",
       "      <td>Mimico South, Mimico South, New Toronto, Mimic...</td>\n",
       "    </tr>\n",
       "  </tbody>\n",
       "</table>\n",
       "</div>"
      ],
      "text/plain": [
       "    Postcode           Borough  \\\n",
       "12       M1B       Scarborough   \n",
       "63       M2H        North York   \n",
       "16       M4B         East York   \n",
       "47       M4E      East Toronto   \n",
       "144      M4N   Central Toronto   \n",
       "239      M4W  Downtown Toronto   \n",
       "35       M6C              York   \n",
       "72       M6H      West Toronto   \n",
       "8        M7A      Queen's Park   \n",
       "174      M7R       Mississauga   \n",
       "225      M8V         Etobicoke   \n",
       "\n",
       "                                         Neighbourhood  \n",
       "12                               Rouge, Rouge, Malvern  \n",
       "63                                   Hillcrest Village  \n",
       "16   Woodbine Gardens, Woodbine Gardens, Parkview Hill  \n",
       "47                                         The Beaches  \n",
       "144                                      Lawrence Park  \n",
       "239                                           Rosedale  \n",
       "35                                  Humewood-Cedarvale  \n",
       "72    Dovercourt Village, Dovercourt Village, Dufferin  \n",
       "8                                         Queen's Park  \n",
       "174              Canada Post Gateway Processing Centre  \n",
       "225  Mimico South, Mimico South, New Toronto, Mimic...  "
      ]
     },
     "execution_count": 273,
     "metadata": {},
     "output_type": "execute_result"
    }
   ],
   "source": [
    "df.drop_duplicates(subset='Borough')"
   ]
  },
  {
   "cell_type": "code",
   "execution_count": 275,
   "metadata": {},
   "outputs": [
    {
     "data": {
      "text/plain": [
       "(103, 3)"
      ]
     },
     "execution_count": 275,
     "metadata": {},
     "output_type": "execute_result"
    }
   ],
   "source": [
    "df.shape"
   ]
  }
 ],
 "metadata": {
  "kernelspec": {
   "display_name": "Python 3",
   "language": "python",
   "name": "python3"
  },
  "language_info": {
   "codemirror_mode": {
    "name": "ipython",
    "version": 3
   },
   "file_extension": ".py",
   "mimetype": "text/x-python",
   "name": "python",
   "nbconvert_exporter": "python",
   "pygments_lexer": "ipython3",
   "version": "3.6.7"
  }
 },
 "nbformat": 4,
 "nbformat_minor": 4
}
