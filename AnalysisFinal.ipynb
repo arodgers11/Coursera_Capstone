{
 "cells": [
  {
   "cell_type": "markdown",
   "metadata": {},
   "source": [
    " <a href=\"https://www.bigdatauniversity.com\"><img src = \"https://ibm.box.com/shared/static/ugcqz6ohbvff804xp84y4kqnvvk3bq1g.png\" width = 300, align = \"center\"></a>\n",
    "\n",
    "<h1 align=center><font size = 5>Data Analysis with Python</font></h1>"
   ]
  },
  {
   "cell_type": "markdown",
   "metadata": {},
   "source": [
    "# House Sales in King County, USA"
   ]
  },
  {
   "cell_type": "markdown",
   "metadata": {},
   "source": [
    "This dataset contains house sale prices for King County, which includes Seattle. It includes homes sold between May 2014 and May 2015."
   ]
  },
  {
   "cell_type": "markdown",
   "metadata": {},
   "source": [
    "<b>id</b> :a notation for a house\n",
    "\n",
    "<b> date</b>: Date house was sold\n",
    "\n",
    "\n",
    "<b>price</b>: Price is prediction target\n",
    "\n",
    "\n",
    "<b>bedrooms</b>: Number of Bedrooms/House\n",
    "\n",
    "\n",
    "<b>bathrooms</b>: Number of bathrooms/bedrooms\n",
    "\n",
    "<b>sqft_living</b>: square footage of the home\n",
    "\n",
    "<b>sqft_lot</b>: square footage of the lot\n",
    "\n",
    "\n",
    "<b>floors</b> :Total floors (levels) in house\n",
    "\n",
    "\n",
    "<b>waterfront</b> :House which has a view to a waterfront\n",
    "\n",
    "\n",
    "<b>view</b>: Has been viewed\n",
    "\n",
    "\n",
    "<b>condition</b> :How good the condition is  Overall\n",
    "\n",
    "<b>grade</b>: overall grade given to the housing unit, based on King County grading system\n",
    "\n",
    "\n",
    "<b>sqft_above</b> :square footage of house apart from basement\n",
    "\n",
    "\n",
    "<b>sqft_basement</b>: square footage of the basement\n",
    "\n",
    "<b>yr_built</b> :Built Year\n",
    "\n",
    "\n",
    "<b>yr_renovated</b> :Year when house was renovated\n",
    "\n",
    "<b>zipcode</b>:zip code\n",
    "\n",
    "\n",
    "<b>lat</b>: Latitude coordinate\n",
    "\n",
    "<b>long</b>: Longitude coordinate\n",
    "\n",
    "<b>sqft_living15</b> :Living room area in 2015(implies-- some renovations) This might or might not have affected the lotsize area\n",
    "\n",
    "\n",
    "<b>sqft_lot15</b> :lotSize area in 2015(implies-- some renovations)"
   ]
  },
  {
   "cell_type": "markdown",
   "metadata": {},
   "source": [
    "You will require the following libraries "
   ]
  },
  {
   "cell_type": "code",
   "execution_count": 2,
   "metadata": {},
   "outputs": [],
   "source": [
    "import pandas as pd\n",
    "import matplotlib.pyplot as plt\n",
    "import numpy as np\n",
    "import seaborn as sns\n",
    "from sklearn.pipeline import Pipeline\n",
    "from sklearn.preprocessing import StandardScaler,PolynomialFeatures\n",
    "%matplotlib inline"
   ]
  },
  {
   "cell_type": "markdown",
   "metadata": {},
   "source": [
    "# 1.0 Importing the Data "
   ]
  },
  {
   "cell_type": "markdown",
   "metadata": {},
   "source": [
    " Load the csv:  "
   ]
  },
  {
   "cell_type": "code",
   "execution_count": 3,
   "metadata": {},
   "outputs": [],
   "source": [
    "file_name='https://s3-api.us-geo.objectstorage.softlayer.net/cf-courses-data/CognitiveClass/DA0101EN/coursera/project/kc_house_data_NaN.csv'\n",
    "df=pd.read_csv(file_name)"
   ]
  },
  {
   "cell_type": "markdown",
   "metadata": {},
   "source": [
    "\n",
    "we use the method <code>head</code> to display the first 5 columns of the dataframe."
   ]
  },
  {
   "cell_type": "code",
   "execution_count": 4,
   "metadata": {},
   "outputs": [
    {
     "data": {
      "text/html": [
       "<div>\n",
       "<style scoped>\n",
       "    .dataframe tbody tr th:only-of-type {\n",
       "        vertical-align: middle;\n",
       "    }\n",
       "\n",
       "    .dataframe tbody tr th {\n",
       "        vertical-align: top;\n",
       "    }\n",
       "\n",
       "    .dataframe thead th {\n",
       "        text-align: right;\n",
       "    }\n",
       "</style>\n",
       "<table border=\"1\" class=\"dataframe\">\n",
       "  <thead>\n",
       "    <tr style=\"text-align: right;\">\n",
       "      <th></th>\n",
       "      <th>Unnamed: 0</th>\n",
       "      <th>id</th>\n",
       "      <th>date</th>\n",
       "      <th>price</th>\n",
       "      <th>bedrooms</th>\n",
       "      <th>bathrooms</th>\n",
       "      <th>sqft_living</th>\n",
       "      <th>sqft_lot</th>\n",
       "      <th>floors</th>\n",
       "      <th>waterfront</th>\n",
       "      <th>...</th>\n",
       "      <th>grade</th>\n",
       "      <th>sqft_above</th>\n",
       "      <th>sqft_basement</th>\n",
       "      <th>yr_built</th>\n",
       "      <th>yr_renovated</th>\n",
       "      <th>zipcode</th>\n",
       "      <th>lat</th>\n",
       "      <th>long</th>\n",
       "      <th>sqft_living15</th>\n",
       "      <th>sqft_lot15</th>\n",
       "    </tr>\n",
       "  </thead>\n",
       "  <tbody>\n",
       "    <tr>\n",
       "      <th>0</th>\n",
       "      <td>0</td>\n",
       "      <td>7129300520</td>\n",
       "      <td>20141013T000000</td>\n",
       "      <td>221900.0</td>\n",
       "      <td>3.0</td>\n",
       "      <td>1.00</td>\n",
       "      <td>1180</td>\n",
       "      <td>5650</td>\n",
       "      <td>1.0</td>\n",
       "      <td>0</td>\n",
       "      <td>...</td>\n",
       "      <td>7</td>\n",
       "      <td>1180</td>\n",
       "      <td>0</td>\n",
       "      <td>1955</td>\n",
       "      <td>0</td>\n",
       "      <td>98178</td>\n",
       "      <td>47.5112</td>\n",
       "      <td>-122.257</td>\n",
       "      <td>1340</td>\n",
       "      <td>5650</td>\n",
       "    </tr>\n",
       "    <tr>\n",
       "      <th>1</th>\n",
       "      <td>1</td>\n",
       "      <td>6414100192</td>\n",
       "      <td>20141209T000000</td>\n",
       "      <td>538000.0</td>\n",
       "      <td>3.0</td>\n",
       "      <td>2.25</td>\n",
       "      <td>2570</td>\n",
       "      <td>7242</td>\n",
       "      <td>2.0</td>\n",
       "      <td>0</td>\n",
       "      <td>...</td>\n",
       "      <td>7</td>\n",
       "      <td>2170</td>\n",
       "      <td>400</td>\n",
       "      <td>1951</td>\n",
       "      <td>1991</td>\n",
       "      <td>98125</td>\n",
       "      <td>47.7210</td>\n",
       "      <td>-122.319</td>\n",
       "      <td>1690</td>\n",
       "      <td>7639</td>\n",
       "    </tr>\n",
       "    <tr>\n",
       "      <th>2</th>\n",
       "      <td>2</td>\n",
       "      <td>5631500400</td>\n",
       "      <td>20150225T000000</td>\n",
       "      <td>180000.0</td>\n",
       "      <td>2.0</td>\n",
       "      <td>1.00</td>\n",
       "      <td>770</td>\n",
       "      <td>10000</td>\n",
       "      <td>1.0</td>\n",
       "      <td>0</td>\n",
       "      <td>...</td>\n",
       "      <td>6</td>\n",
       "      <td>770</td>\n",
       "      <td>0</td>\n",
       "      <td>1933</td>\n",
       "      <td>0</td>\n",
       "      <td>98028</td>\n",
       "      <td>47.7379</td>\n",
       "      <td>-122.233</td>\n",
       "      <td>2720</td>\n",
       "      <td>8062</td>\n",
       "    </tr>\n",
       "    <tr>\n",
       "      <th>3</th>\n",
       "      <td>3</td>\n",
       "      <td>2487200875</td>\n",
       "      <td>20141209T000000</td>\n",
       "      <td>604000.0</td>\n",
       "      <td>4.0</td>\n",
       "      <td>3.00</td>\n",
       "      <td>1960</td>\n",
       "      <td>5000</td>\n",
       "      <td>1.0</td>\n",
       "      <td>0</td>\n",
       "      <td>...</td>\n",
       "      <td>7</td>\n",
       "      <td>1050</td>\n",
       "      <td>910</td>\n",
       "      <td>1965</td>\n",
       "      <td>0</td>\n",
       "      <td>98136</td>\n",
       "      <td>47.5208</td>\n",
       "      <td>-122.393</td>\n",
       "      <td>1360</td>\n",
       "      <td>5000</td>\n",
       "    </tr>\n",
       "    <tr>\n",
       "      <th>4</th>\n",
       "      <td>4</td>\n",
       "      <td>1954400510</td>\n",
       "      <td>20150218T000000</td>\n",
       "      <td>510000.0</td>\n",
       "      <td>3.0</td>\n",
       "      <td>2.00</td>\n",
       "      <td>1680</td>\n",
       "      <td>8080</td>\n",
       "      <td>1.0</td>\n",
       "      <td>0</td>\n",
       "      <td>...</td>\n",
       "      <td>8</td>\n",
       "      <td>1680</td>\n",
       "      <td>0</td>\n",
       "      <td>1987</td>\n",
       "      <td>0</td>\n",
       "      <td>98074</td>\n",
       "      <td>47.6168</td>\n",
       "      <td>-122.045</td>\n",
       "      <td>1800</td>\n",
       "      <td>7503</td>\n",
       "    </tr>\n",
       "  </tbody>\n",
       "</table>\n",
       "<p>5 rows × 22 columns</p>\n",
       "</div>"
      ],
      "text/plain": [
       "   Unnamed: 0          id             date     price  bedrooms  bathrooms  \\\n",
       "0           0  7129300520  20141013T000000  221900.0       3.0       1.00   \n",
       "1           1  6414100192  20141209T000000  538000.0       3.0       2.25   \n",
       "2           2  5631500400  20150225T000000  180000.0       2.0       1.00   \n",
       "3           3  2487200875  20141209T000000  604000.0       4.0       3.00   \n",
       "4           4  1954400510  20150218T000000  510000.0       3.0       2.00   \n",
       "\n",
       "   sqft_living  sqft_lot  floors  waterfront     ...      grade  sqft_above  \\\n",
       "0         1180      5650     1.0           0     ...          7        1180   \n",
       "1         2570      7242     2.0           0     ...          7        2170   \n",
       "2          770     10000     1.0           0     ...          6         770   \n",
       "3         1960      5000     1.0           0     ...          7        1050   \n",
       "4         1680      8080     1.0           0     ...          8        1680   \n",
       "\n",
       "   sqft_basement  yr_built  yr_renovated  zipcode      lat     long  \\\n",
       "0              0      1955             0    98178  47.5112 -122.257   \n",
       "1            400      1951          1991    98125  47.7210 -122.319   \n",
       "2              0      1933             0    98028  47.7379 -122.233   \n",
       "3            910      1965             0    98136  47.5208 -122.393   \n",
       "4              0      1987             0    98074  47.6168 -122.045   \n",
       "\n",
       "   sqft_living15  sqft_lot15  \n",
       "0           1340        5650  \n",
       "1           1690        7639  \n",
       "2           2720        8062  \n",
       "3           1360        5000  \n",
       "4           1800        7503  \n",
       "\n",
       "[5 rows x 22 columns]"
      ]
     },
     "execution_count": 4,
     "metadata": {},
     "output_type": "execute_result"
    }
   ],
   "source": [
    "df.head()"
   ]
  },
  {
   "cell_type": "markdown",
   "metadata": {},
   "source": [
    "#### Question 1 \n",
    "Display the data types of each column using the attribute dtype, then take a screenshot and submit it, include your code in the image. "
   ]
  },
  {
   "cell_type": "code",
   "execution_count": 4,
   "metadata": {},
   "outputs": [
    {
     "data": {
      "text/plain": [
       "Unnamed: 0         int64\n",
       "id                 int64\n",
       "date              object\n",
       "price            float64\n",
       "bedrooms         float64\n",
       "bathrooms        float64\n",
       "sqft_living        int64\n",
       "sqft_lot           int64\n",
       "floors           float64\n",
       "waterfront         int64\n",
       "view               int64\n",
       "condition          int64\n",
       "grade              int64\n",
       "sqft_above         int64\n",
       "sqft_basement      int64\n",
       "yr_built           int64\n",
       "yr_renovated       int64\n",
       "zipcode            int64\n",
       "lat              float64\n",
       "long             float64\n",
       "sqft_living15      int64\n",
       "sqft_lot15         int64\n",
       "dtype: object"
      ]
     },
     "execution_count": 4,
     "metadata": {},
     "output_type": "execute_result"
    }
   ],
   "source": [
    "df.dtypes"
   ]
  },
  {
   "cell_type": "markdown",
   "metadata": {},
   "source": [
    "We use the method describe to obtain a statistical summary of the dataframe."
   ]
  },
  {
   "cell_type": "code",
   "execution_count": 5,
   "metadata": {},
   "outputs": [
    {
     "data": {
      "text/html": [
       "<div>\n",
       "<style scoped>\n",
       "    .dataframe tbody tr th:only-of-type {\n",
       "        vertical-align: middle;\n",
       "    }\n",
       "\n",
       "    .dataframe tbody tr th {\n",
       "        vertical-align: top;\n",
       "    }\n",
       "\n",
       "    .dataframe thead th {\n",
       "        text-align: right;\n",
       "    }\n",
       "</style>\n",
       "<table border=\"1\" class=\"dataframe\">\n",
       "  <thead>\n",
       "    <tr style=\"text-align: right;\">\n",
       "      <th></th>\n",
       "      <th>Unnamed: 0</th>\n",
       "      <th>id</th>\n",
       "      <th>price</th>\n",
       "      <th>bedrooms</th>\n",
       "      <th>bathrooms</th>\n",
       "      <th>sqft_living</th>\n",
       "      <th>sqft_lot</th>\n",
       "      <th>floors</th>\n",
       "      <th>waterfront</th>\n",
       "      <th>view</th>\n",
       "      <th>...</th>\n",
       "      <th>grade</th>\n",
       "      <th>sqft_above</th>\n",
       "      <th>sqft_basement</th>\n",
       "      <th>yr_built</th>\n",
       "      <th>yr_renovated</th>\n",
       "      <th>zipcode</th>\n",
       "      <th>lat</th>\n",
       "      <th>long</th>\n",
       "      <th>sqft_living15</th>\n",
       "      <th>sqft_lot15</th>\n",
       "    </tr>\n",
       "  </thead>\n",
       "  <tbody>\n",
       "    <tr>\n",
       "      <th>count</th>\n",
       "      <td>21613.00000</td>\n",
       "      <td>2.161300e+04</td>\n",
       "      <td>2.161300e+04</td>\n",
       "      <td>21600.000000</td>\n",
       "      <td>21603.000000</td>\n",
       "      <td>21613.000000</td>\n",
       "      <td>2.161300e+04</td>\n",
       "      <td>21613.000000</td>\n",
       "      <td>21613.000000</td>\n",
       "      <td>21613.000000</td>\n",
       "      <td>...</td>\n",
       "      <td>21613.000000</td>\n",
       "      <td>21613.000000</td>\n",
       "      <td>21613.000000</td>\n",
       "      <td>21613.000000</td>\n",
       "      <td>21613.000000</td>\n",
       "      <td>21613.000000</td>\n",
       "      <td>21613.000000</td>\n",
       "      <td>21613.000000</td>\n",
       "      <td>21613.000000</td>\n",
       "      <td>21613.000000</td>\n",
       "    </tr>\n",
       "    <tr>\n",
       "      <th>mean</th>\n",
       "      <td>10806.00000</td>\n",
       "      <td>4.580302e+09</td>\n",
       "      <td>5.400881e+05</td>\n",
       "      <td>3.372870</td>\n",
       "      <td>2.115736</td>\n",
       "      <td>2079.899736</td>\n",
       "      <td>1.510697e+04</td>\n",
       "      <td>1.494309</td>\n",
       "      <td>0.007542</td>\n",
       "      <td>0.234303</td>\n",
       "      <td>...</td>\n",
       "      <td>7.656873</td>\n",
       "      <td>1788.390691</td>\n",
       "      <td>291.509045</td>\n",
       "      <td>1971.005136</td>\n",
       "      <td>84.402258</td>\n",
       "      <td>98077.939805</td>\n",
       "      <td>47.560053</td>\n",
       "      <td>-122.213896</td>\n",
       "      <td>1986.552492</td>\n",
       "      <td>12768.455652</td>\n",
       "    </tr>\n",
       "    <tr>\n",
       "      <th>std</th>\n",
       "      <td>6239.28002</td>\n",
       "      <td>2.876566e+09</td>\n",
       "      <td>3.671272e+05</td>\n",
       "      <td>0.926657</td>\n",
       "      <td>0.768996</td>\n",
       "      <td>918.440897</td>\n",
       "      <td>4.142051e+04</td>\n",
       "      <td>0.539989</td>\n",
       "      <td>0.086517</td>\n",
       "      <td>0.766318</td>\n",
       "      <td>...</td>\n",
       "      <td>1.175459</td>\n",
       "      <td>828.090978</td>\n",
       "      <td>442.575043</td>\n",
       "      <td>29.373411</td>\n",
       "      <td>401.679240</td>\n",
       "      <td>53.505026</td>\n",
       "      <td>0.138564</td>\n",
       "      <td>0.140828</td>\n",
       "      <td>685.391304</td>\n",
       "      <td>27304.179631</td>\n",
       "    </tr>\n",
       "    <tr>\n",
       "      <th>min</th>\n",
       "      <td>0.00000</td>\n",
       "      <td>1.000102e+06</td>\n",
       "      <td>7.500000e+04</td>\n",
       "      <td>1.000000</td>\n",
       "      <td>0.500000</td>\n",
       "      <td>290.000000</td>\n",
       "      <td>5.200000e+02</td>\n",
       "      <td>1.000000</td>\n",
       "      <td>0.000000</td>\n",
       "      <td>0.000000</td>\n",
       "      <td>...</td>\n",
       "      <td>1.000000</td>\n",
       "      <td>290.000000</td>\n",
       "      <td>0.000000</td>\n",
       "      <td>1900.000000</td>\n",
       "      <td>0.000000</td>\n",
       "      <td>98001.000000</td>\n",
       "      <td>47.155900</td>\n",
       "      <td>-122.519000</td>\n",
       "      <td>399.000000</td>\n",
       "      <td>651.000000</td>\n",
       "    </tr>\n",
       "    <tr>\n",
       "      <th>25%</th>\n",
       "      <td>5403.00000</td>\n",
       "      <td>2.123049e+09</td>\n",
       "      <td>3.219500e+05</td>\n",
       "      <td>3.000000</td>\n",
       "      <td>1.750000</td>\n",
       "      <td>1427.000000</td>\n",
       "      <td>5.040000e+03</td>\n",
       "      <td>1.000000</td>\n",
       "      <td>0.000000</td>\n",
       "      <td>0.000000</td>\n",
       "      <td>...</td>\n",
       "      <td>7.000000</td>\n",
       "      <td>1190.000000</td>\n",
       "      <td>0.000000</td>\n",
       "      <td>1951.000000</td>\n",
       "      <td>0.000000</td>\n",
       "      <td>98033.000000</td>\n",
       "      <td>47.471000</td>\n",
       "      <td>-122.328000</td>\n",
       "      <td>1490.000000</td>\n",
       "      <td>5100.000000</td>\n",
       "    </tr>\n",
       "    <tr>\n",
       "      <th>50%</th>\n",
       "      <td>10806.00000</td>\n",
       "      <td>3.904930e+09</td>\n",
       "      <td>4.500000e+05</td>\n",
       "      <td>3.000000</td>\n",
       "      <td>2.250000</td>\n",
       "      <td>1910.000000</td>\n",
       "      <td>7.618000e+03</td>\n",
       "      <td>1.500000</td>\n",
       "      <td>0.000000</td>\n",
       "      <td>0.000000</td>\n",
       "      <td>...</td>\n",
       "      <td>7.000000</td>\n",
       "      <td>1560.000000</td>\n",
       "      <td>0.000000</td>\n",
       "      <td>1975.000000</td>\n",
       "      <td>0.000000</td>\n",
       "      <td>98065.000000</td>\n",
       "      <td>47.571800</td>\n",
       "      <td>-122.230000</td>\n",
       "      <td>1840.000000</td>\n",
       "      <td>7620.000000</td>\n",
       "    </tr>\n",
       "    <tr>\n",
       "      <th>75%</th>\n",
       "      <td>16209.00000</td>\n",
       "      <td>7.308900e+09</td>\n",
       "      <td>6.450000e+05</td>\n",
       "      <td>4.000000</td>\n",
       "      <td>2.500000</td>\n",
       "      <td>2550.000000</td>\n",
       "      <td>1.068800e+04</td>\n",
       "      <td>2.000000</td>\n",
       "      <td>0.000000</td>\n",
       "      <td>0.000000</td>\n",
       "      <td>...</td>\n",
       "      <td>8.000000</td>\n",
       "      <td>2210.000000</td>\n",
       "      <td>560.000000</td>\n",
       "      <td>1997.000000</td>\n",
       "      <td>0.000000</td>\n",
       "      <td>98118.000000</td>\n",
       "      <td>47.678000</td>\n",
       "      <td>-122.125000</td>\n",
       "      <td>2360.000000</td>\n",
       "      <td>10083.000000</td>\n",
       "    </tr>\n",
       "    <tr>\n",
       "      <th>max</th>\n",
       "      <td>21612.00000</td>\n",
       "      <td>9.900000e+09</td>\n",
       "      <td>7.700000e+06</td>\n",
       "      <td>33.000000</td>\n",
       "      <td>8.000000</td>\n",
       "      <td>13540.000000</td>\n",
       "      <td>1.651359e+06</td>\n",
       "      <td>3.500000</td>\n",
       "      <td>1.000000</td>\n",
       "      <td>4.000000</td>\n",
       "      <td>...</td>\n",
       "      <td>13.000000</td>\n",
       "      <td>9410.000000</td>\n",
       "      <td>4820.000000</td>\n",
       "      <td>2015.000000</td>\n",
       "      <td>2015.000000</td>\n",
       "      <td>98199.000000</td>\n",
       "      <td>47.777600</td>\n",
       "      <td>-121.315000</td>\n",
       "      <td>6210.000000</td>\n",
       "      <td>871200.000000</td>\n",
       "    </tr>\n",
       "  </tbody>\n",
       "</table>\n",
       "<p>8 rows × 21 columns</p>\n",
       "</div>"
      ],
      "text/plain": [
       "        Unnamed: 0            id         price      bedrooms     bathrooms  \\\n",
       "count  21613.00000  2.161300e+04  2.161300e+04  21600.000000  21603.000000   \n",
       "mean   10806.00000  4.580302e+09  5.400881e+05      3.372870      2.115736   \n",
       "std     6239.28002  2.876566e+09  3.671272e+05      0.926657      0.768996   \n",
       "min        0.00000  1.000102e+06  7.500000e+04      1.000000      0.500000   \n",
       "25%     5403.00000  2.123049e+09  3.219500e+05      3.000000      1.750000   \n",
       "50%    10806.00000  3.904930e+09  4.500000e+05      3.000000      2.250000   \n",
       "75%    16209.00000  7.308900e+09  6.450000e+05      4.000000      2.500000   \n",
       "max    21612.00000  9.900000e+09  7.700000e+06     33.000000      8.000000   \n",
       "\n",
       "        sqft_living      sqft_lot        floors    waterfront          view  \\\n",
       "count  21613.000000  2.161300e+04  21613.000000  21613.000000  21613.000000   \n",
       "mean    2079.899736  1.510697e+04      1.494309      0.007542      0.234303   \n",
       "std      918.440897  4.142051e+04      0.539989      0.086517      0.766318   \n",
       "min      290.000000  5.200000e+02      1.000000      0.000000      0.000000   \n",
       "25%     1427.000000  5.040000e+03      1.000000      0.000000      0.000000   \n",
       "50%     1910.000000  7.618000e+03      1.500000      0.000000      0.000000   \n",
       "75%     2550.000000  1.068800e+04      2.000000      0.000000      0.000000   \n",
       "max    13540.000000  1.651359e+06      3.500000      1.000000      4.000000   \n",
       "\n",
       "           ...               grade    sqft_above  sqft_basement      yr_built  \\\n",
       "count      ...        21613.000000  21613.000000   21613.000000  21613.000000   \n",
       "mean       ...            7.656873   1788.390691     291.509045   1971.005136   \n",
       "std        ...            1.175459    828.090978     442.575043     29.373411   \n",
       "min        ...            1.000000    290.000000       0.000000   1900.000000   \n",
       "25%        ...            7.000000   1190.000000       0.000000   1951.000000   \n",
       "50%        ...            7.000000   1560.000000       0.000000   1975.000000   \n",
       "75%        ...            8.000000   2210.000000     560.000000   1997.000000   \n",
       "max        ...           13.000000   9410.000000    4820.000000   2015.000000   \n",
       "\n",
       "       yr_renovated       zipcode           lat          long  sqft_living15  \\\n",
       "count  21613.000000  21613.000000  21613.000000  21613.000000   21613.000000   \n",
       "mean      84.402258  98077.939805     47.560053   -122.213896    1986.552492   \n",
       "std      401.679240     53.505026      0.138564      0.140828     685.391304   \n",
       "min        0.000000  98001.000000     47.155900   -122.519000     399.000000   \n",
       "25%        0.000000  98033.000000     47.471000   -122.328000    1490.000000   \n",
       "50%        0.000000  98065.000000     47.571800   -122.230000    1840.000000   \n",
       "75%        0.000000  98118.000000     47.678000   -122.125000    2360.000000   \n",
       "max     2015.000000  98199.000000     47.777600   -121.315000    6210.000000   \n",
       "\n",
       "          sqft_lot15  \n",
       "count   21613.000000  \n",
       "mean    12768.455652  \n",
       "std     27304.179631  \n",
       "min       651.000000  \n",
       "25%      5100.000000  \n",
       "50%      7620.000000  \n",
       "75%     10083.000000  \n",
       "max    871200.000000  \n",
       "\n",
       "[8 rows x 21 columns]"
      ]
     },
     "execution_count": 5,
     "metadata": {},
     "output_type": "execute_result"
    }
   ],
   "source": [
    "df.describe()"
   ]
  },
  {
   "cell_type": "markdown",
   "metadata": {},
   "source": [
    "# 2.0 Data Wrangling"
   ]
  },
  {
   "cell_type": "markdown",
   "metadata": {},
   "source": [
    "#### Question 2 \n",
    "Drop the columns <code>\"id\"</code>  and <code>\"Unnamed: 0\"</code> from axis 1 using the method <code>drop()</code>, then use the method <code>describe()</code> to obtain a statistical summary of the data. Take a screenshot and submit it, make sure the inplace parameter is set to <code>True</code>"
   ]
  },
  {
   "cell_type": "code",
   "execution_count": 5,
   "metadata": {},
   "outputs": [
    {
     "data": {
      "text/html": [
       "<div>\n",
       "<style scoped>\n",
       "    .dataframe tbody tr th:only-of-type {\n",
       "        vertical-align: middle;\n",
       "    }\n",
       "\n",
       "    .dataframe tbody tr th {\n",
       "        vertical-align: top;\n",
       "    }\n",
       "\n",
       "    .dataframe thead th {\n",
       "        text-align: right;\n",
       "    }\n",
       "</style>\n",
       "<table border=\"1\" class=\"dataframe\">\n",
       "  <thead>\n",
       "    <tr style=\"text-align: right;\">\n",
       "      <th></th>\n",
       "      <th>price</th>\n",
       "      <th>bedrooms</th>\n",
       "      <th>bathrooms</th>\n",
       "      <th>sqft_living</th>\n",
       "      <th>sqft_lot</th>\n",
       "      <th>floors</th>\n",
       "      <th>waterfront</th>\n",
       "      <th>view</th>\n",
       "      <th>condition</th>\n",
       "      <th>grade</th>\n",
       "      <th>sqft_above</th>\n",
       "      <th>sqft_basement</th>\n",
       "      <th>yr_built</th>\n",
       "      <th>yr_renovated</th>\n",
       "      <th>zipcode</th>\n",
       "      <th>lat</th>\n",
       "      <th>long</th>\n",
       "      <th>sqft_living15</th>\n",
       "      <th>sqft_lot15</th>\n",
       "    </tr>\n",
       "  </thead>\n",
       "  <tbody>\n",
       "    <tr>\n",
       "      <th>count</th>\n",
       "      <td>2.161300e+04</td>\n",
       "      <td>21600.000000</td>\n",
       "      <td>21603.000000</td>\n",
       "      <td>21613.000000</td>\n",
       "      <td>2.161300e+04</td>\n",
       "      <td>21613.000000</td>\n",
       "      <td>21613.000000</td>\n",
       "      <td>21613.000000</td>\n",
       "      <td>21613.000000</td>\n",
       "      <td>21613.000000</td>\n",
       "      <td>21613.000000</td>\n",
       "      <td>21613.000000</td>\n",
       "      <td>21613.000000</td>\n",
       "      <td>21613.000000</td>\n",
       "      <td>21613.000000</td>\n",
       "      <td>21613.000000</td>\n",
       "      <td>21613.000000</td>\n",
       "      <td>21613.000000</td>\n",
       "      <td>21613.000000</td>\n",
       "    </tr>\n",
       "    <tr>\n",
       "      <th>mean</th>\n",
       "      <td>5.400881e+05</td>\n",
       "      <td>3.372870</td>\n",
       "      <td>2.115736</td>\n",
       "      <td>2079.899736</td>\n",
       "      <td>1.510697e+04</td>\n",
       "      <td>1.494309</td>\n",
       "      <td>0.007542</td>\n",
       "      <td>0.234303</td>\n",
       "      <td>3.409430</td>\n",
       "      <td>7.656873</td>\n",
       "      <td>1788.390691</td>\n",
       "      <td>291.509045</td>\n",
       "      <td>1971.005136</td>\n",
       "      <td>84.402258</td>\n",
       "      <td>98077.939805</td>\n",
       "      <td>47.560053</td>\n",
       "      <td>-122.213896</td>\n",
       "      <td>1986.552492</td>\n",
       "      <td>12768.455652</td>\n",
       "    </tr>\n",
       "    <tr>\n",
       "      <th>std</th>\n",
       "      <td>3.671272e+05</td>\n",
       "      <td>0.926657</td>\n",
       "      <td>0.768996</td>\n",
       "      <td>918.440897</td>\n",
       "      <td>4.142051e+04</td>\n",
       "      <td>0.539989</td>\n",
       "      <td>0.086517</td>\n",
       "      <td>0.766318</td>\n",
       "      <td>0.650743</td>\n",
       "      <td>1.175459</td>\n",
       "      <td>828.090978</td>\n",
       "      <td>442.575043</td>\n",
       "      <td>29.373411</td>\n",
       "      <td>401.679240</td>\n",
       "      <td>53.505026</td>\n",
       "      <td>0.138564</td>\n",
       "      <td>0.140828</td>\n",
       "      <td>685.391304</td>\n",
       "      <td>27304.179631</td>\n",
       "    </tr>\n",
       "    <tr>\n",
       "      <th>min</th>\n",
       "      <td>7.500000e+04</td>\n",
       "      <td>1.000000</td>\n",
       "      <td>0.500000</td>\n",
       "      <td>290.000000</td>\n",
       "      <td>5.200000e+02</td>\n",
       "      <td>1.000000</td>\n",
       "      <td>0.000000</td>\n",
       "      <td>0.000000</td>\n",
       "      <td>1.000000</td>\n",
       "      <td>1.000000</td>\n",
       "      <td>290.000000</td>\n",
       "      <td>0.000000</td>\n",
       "      <td>1900.000000</td>\n",
       "      <td>0.000000</td>\n",
       "      <td>98001.000000</td>\n",
       "      <td>47.155900</td>\n",
       "      <td>-122.519000</td>\n",
       "      <td>399.000000</td>\n",
       "      <td>651.000000</td>\n",
       "    </tr>\n",
       "    <tr>\n",
       "      <th>25%</th>\n",
       "      <td>3.219500e+05</td>\n",
       "      <td>3.000000</td>\n",
       "      <td>1.750000</td>\n",
       "      <td>1427.000000</td>\n",
       "      <td>5.040000e+03</td>\n",
       "      <td>1.000000</td>\n",
       "      <td>0.000000</td>\n",
       "      <td>0.000000</td>\n",
       "      <td>3.000000</td>\n",
       "      <td>7.000000</td>\n",
       "      <td>1190.000000</td>\n",
       "      <td>0.000000</td>\n",
       "      <td>1951.000000</td>\n",
       "      <td>0.000000</td>\n",
       "      <td>98033.000000</td>\n",
       "      <td>47.471000</td>\n",
       "      <td>-122.328000</td>\n",
       "      <td>1490.000000</td>\n",
       "      <td>5100.000000</td>\n",
       "    </tr>\n",
       "    <tr>\n",
       "      <th>50%</th>\n",
       "      <td>4.500000e+05</td>\n",
       "      <td>3.000000</td>\n",
       "      <td>2.250000</td>\n",
       "      <td>1910.000000</td>\n",
       "      <td>7.618000e+03</td>\n",
       "      <td>1.500000</td>\n",
       "      <td>0.000000</td>\n",
       "      <td>0.000000</td>\n",
       "      <td>3.000000</td>\n",
       "      <td>7.000000</td>\n",
       "      <td>1560.000000</td>\n",
       "      <td>0.000000</td>\n",
       "      <td>1975.000000</td>\n",
       "      <td>0.000000</td>\n",
       "      <td>98065.000000</td>\n",
       "      <td>47.571800</td>\n",
       "      <td>-122.230000</td>\n",
       "      <td>1840.000000</td>\n",
       "      <td>7620.000000</td>\n",
       "    </tr>\n",
       "    <tr>\n",
       "      <th>75%</th>\n",
       "      <td>6.450000e+05</td>\n",
       "      <td>4.000000</td>\n",
       "      <td>2.500000</td>\n",
       "      <td>2550.000000</td>\n",
       "      <td>1.068800e+04</td>\n",
       "      <td>2.000000</td>\n",
       "      <td>0.000000</td>\n",
       "      <td>0.000000</td>\n",
       "      <td>4.000000</td>\n",
       "      <td>8.000000</td>\n",
       "      <td>2210.000000</td>\n",
       "      <td>560.000000</td>\n",
       "      <td>1997.000000</td>\n",
       "      <td>0.000000</td>\n",
       "      <td>98118.000000</td>\n",
       "      <td>47.678000</td>\n",
       "      <td>-122.125000</td>\n",
       "      <td>2360.000000</td>\n",
       "      <td>10083.000000</td>\n",
       "    </tr>\n",
       "    <tr>\n",
       "      <th>max</th>\n",
       "      <td>7.700000e+06</td>\n",
       "      <td>33.000000</td>\n",
       "      <td>8.000000</td>\n",
       "      <td>13540.000000</td>\n",
       "      <td>1.651359e+06</td>\n",
       "      <td>3.500000</td>\n",
       "      <td>1.000000</td>\n",
       "      <td>4.000000</td>\n",
       "      <td>5.000000</td>\n",
       "      <td>13.000000</td>\n",
       "      <td>9410.000000</td>\n",
       "      <td>4820.000000</td>\n",
       "      <td>2015.000000</td>\n",
       "      <td>2015.000000</td>\n",
       "      <td>98199.000000</td>\n",
       "      <td>47.777600</td>\n",
       "      <td>-121.315000</td>\n",
       "      <td>6210.000000</td>\n",
       "      <td>871200.000000</td>\n",
       "    </tr>\n",
       "  </tbody>\n",
       "</table>\n",
       "</div>"
      ],
      "text/plain": [
       "              price      bedrooms     bathrooms   sqft_living      sqft_lot  \\\n",
       "count  2.161300e+04  21600.000000  21603.000000  21613.000000  2.161300e+04   \n",
       "mean   5.400881e+05      3.372870      2.115736   2079.899736  1.510697e+04   \n",
       "std    3.671272e+05      0.926657      0.768996    918.440897  4.142051e+04   \n",
       "min    7.500000e+04      1.000000      0.500000    290.000000  5.200000e+02   \n",
       "25%    3.219500e+05      3.000000      1.750000   1427.000000  5.040000e+03   \n",
       "50%    4.500000e+05      3.000000      2.250000   1910.000000  7.618000e+03   \n",
       "75%    6.450000e+05      4.000000      2.500000   2550.000000  1.068800e+04   \n",
       "max    7.700000e+06     33.000000      8.000000  13540.000000  1.651359e+06   \n",
       "\n",
       "             floors    waterfront          view     condition         grade  \\\n",
       "count  21613.000000  21613.000000  21613.000000  21613.000000  21613.000000   \n",
       "mean       1.494309      0.007542      0.234303      3.409430      7.656873   \n",
       "std        0.539989      0.086517      0.766318      0.650743      1.175459   \n",
       "min        1.000000      0.000000      0.000000      1.000000      1.000000   \n",
       "25%        1.000000      0.000000      0.000000      3.000000      7.000000   \n",
       "50%        1.500000      0.000000      0.000000      3.000000      7.000000   \n",
       "75%        2.000000      0.000000      0.000000      4.000000      8.000000   \n",
       "max        3.500000      1.000000      4.000000      5.000000     13.000000   \n",
       "\n",
       "         sqft_above  sqft_basement      yr_built  yr_renovated       zipcode  \\\n",
       "count  21613.000000   21613.000000  21613.000000  21613.000000  21613.000000   \n",
       "mean    1788.390691     291.509045   1971.005136     84.402258  98077.939805   \n",
       "std      828.090978     442.575043     29.373411    401.679240     53.505026   \n",
       "min      290.000000       0.000000   1900.000000      0.000000  98001.000000   \n",
       "25%     1190.000000       0.000000   1951.000000      0.000000  98033.000000   \n",
       "50%     1560.000000       0.000000   1975.000000      0.000000  98065.000000   \n",
       "75%     2210.000000     560.000000   1997.000000      0.000000  98118.000000   \n",
       "max     9410.000000    4820.000000   2015.000000   2015.000000  98199.000000   \n",
       "\n",
       "                lat          long  sqft_living15     sqft_lot15  \n",
       "count  21613.000000  21613.000000   21613.000000   21613.000000  \n",
       "mean      47.560053   -122.213896    1986.552492   12768.455652  \n",
       "std        0.138564      0.140828     685.391304   27304.179631  \n",
       "min       47.155900   -122.519000     399.000000     651.000000  \n",
       "25%       47.471000   -122.328000    1490.000000    5100.000000  \n",
       "50%       47.571800   -122.230000    1840.000000    7620.000000  \n",
       "75%       47.678000   -122.125000    2360.000000   10083.000000  \n",
       "max       47.777600   -121.315000    6210.000000  871200.000000  "
      ]
     },
     "execution_count": 5,
     "metadata": {},
     "output_type": "execute_result"
    }
   ],
   "source": [
    "df=df.drop(['id','Unnamed: 0'],axis=1)\n",
    "df.describe()"
   ]
  },
  {
   "cell_type": "markdown",
   "metadata": {},
   "source": [
    "we can see we have missing values for the columns <code> bedrooms</code>  and <code> bathrooms </code>"
   ]
  },
  {
   "cell_type": "code",
   "execution_count": 6,
   "metadata": {},
   "outputs": [
    {
     "name": "stdout",
     "output_type": "stream",
     "text": [
      "number of NaN values for the column bedrooms : 13\n",
      "number of NaN values for the column bathrooms : 10\n"
     ]
    }
   ],
   "source": [
    "print(\"number of NaN values for the column bedrooms :\", df['bedrooms'].isnull().sum())\n",
    "print(\"number of NaN values for the column bathrooms :\", df['bathrooms'].isnull().sum())"
   ]
  },
  {
   "cell_type": "markdown",
   "metadata": {},
   "source": [
    "\n",
    "We can replace the missing values of the column <code>'bedrooms'</code> with the mean of the column  <code>'bedrooms' </code> using the method replace. Don't forget to set the <code>inplace</code> parameter top <code>True</code>"
   ]
  },
  {
   "cell_type": "code",
   "execution_count": 56,
   "metadata": {},
   "outputs": [],
   "source": [
    "mean=df['bedrooms'].mean()\n",
    "df['bedrooms'].replace(np.nan,mean, inplace=True)"
   ]
  },
  {
   "cell_type": "markdown",
   "metadata": {},
   "source": [
    "\n",
    "We also replace the missing values of the column <code>'bathrooms'</code> with the mean of the column  <code>'bedrooms' </codse> using the method replace.Don't forget to set the <code> inplace </code>  parameter top <code> Ture </code>"
   ]
  },
  {
   "cell_type": "code",
   "execution_count": 57,
   "metadata": {},
   "outputs": [],
   "source": [
    "mean=df['bathrooms'].mean()\n",
    "df['bathrooms'].replace(np.nan,mean, inplace=True)"
   ]
  },
  {
   "cell_type": "code",
   "execution_count": 9,
   "metadata": {},
   "outputs": [
    {
     "name": "stdout",
     "output_type": "stream",
     "text": [
      "number of NaN values for the column bedrooms : 0\n",
      "number of NaN values for the column bathrooms : 0\n"
     ]
    }
   ],
   "source": [
    "print(\"number of NaN values for the column bedrooms :\", df['bedrooms'].isnull().sum())\n",
    "print(\"number of NaN values for the column bathrooms :\", df['bathrooms'].isnull().sum())"
   ]
  },
  {
   "cell_type": "markdown",
   "metadata": {},
   "source": [
    "# 3.0 Exploratory data analysis"
   ]
  },
  {
   "cell_type": "markdown",
   "metadata": {},
   "source": [
    "#### Question 3\n",
    "Use the method value_counts to count the number of houses with unique floor values, use the method .to_frame() to convert it to a dataframe.\n"
   ]
  },
  {
   "cell_type": "code",
   "execution_count": 58,
   "metadata": {},
   "outputs": [
    {
     "data": {
      "text/html": [
       "<div>\n",
       "<style scoped>\n",
       "    .dataframe tbody tr th:only-of-type {\n",
       "        vertical-align: middle;\n",
       "    }\n",
       "\n",
       "    .dataframe tbody tr th {\n",
       "        vertical-align: top;\n",
       "    }\n",
       "\n",
       "    .dataframe thead th {\n",
       "        text-align: right;\n",
       "    }\n",
       "</style>\n",
       "<table border=\"1\" class=\"dataframe\">\n",
       "  <thead>\n",
       "    <tr style=\"text-align: right;\">\n",
       "      <th></th>\n",
       "      <th>floors</th>\n",
       "    </tr>\n",
       "  </thead>\n",
       "  <tbody>\n",
       "    <tr>\n",
       "      <th>1.0</th>\n",
       "      <td>10680</td>\n",
       "    </tr>\n",
       "    <tr>\n",
       "      <th>2.0</th>\n",
       "      <td>8241</td>\n",
       "    </tr>\n",
       "    <tr>\n",
       "      <th>1.5</th>\n",
       "      <td>1910</td>\n",
       "    </tr>\n",
       "    <tr>\n",
       "      <th>3.0</th>\n",
       "      <td>613</td>\n",
       "    </tr>\n",
       "    <tr>\n",
       "      <th>2.5</th>\n",
       "      <td>161</td>\n",
       "    </tr>\n",
       "    <tr>\n",
       "      <th>3.5</th>\n",
       "      <td>8</td>\n",
       "    </tr>\n",
       "  </tbody>\n",
       "</table>\n",
       "</div>"
      ],
      "text/plain": [
       "     floors\n",
       "1.0   10680\n",
       "2.0    8241\n",
       "1.5    1910\n",
       "3.0     613\n",
       "2.5     161\n",
       "3.5       8"
      ]
     },
     "execution_count": 58,
     "metadata": {},
     "output_type": "execute_result"
    }
   ],
   "source": [
    "new_df=df['floors'].value_counts().to_frame()\n",
    "new_df"
   ]
  },
  {
   "cell_type": "markdown",
   "metadata": {},
   "source": [
    "### Question 4\n",
    "Use the function <code>boxplot</code> in the seaborn library  to  determine whether houses with a waterfront view or without a waterfront view have more price outliers ."
   ]
  },
  {
   "cell_type": "code",
   "execution_count": 59,
   "metadata": {},
   "outputs": [
    {
     "data": {
      "text/plain": [
       "<matplotlib.axes._subplots.AxesSubplot at 0x241b4932208>"
      ]
     },
     "execution_count": 59,
     "metadata": {},
     "output_type": "execute_result"
    },
    {
     "data": {
      "image/png": "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\n",
      "text/plain": [
       "<Figure size 432x288 with 1 Axes>"
      ]
     },
     "metadata": {
      "needs_background": "light"
     },
     "output_type": "display_data"
    }
   ],
   "source": [
    "sns.boxplot(x=df['waterfront'],y=df['price'])"
   ]
  },
  {
   "cell_type": "markdown",
   "metadata": {},
   "source": [
    "### Question 5\n",
    "Use the function <code> regplot</code>  in the seaborn library  to  determine if the feature <code>sqft_above</code> is negatively or positively correlated with price."
   ]
  },
  {
   "cell_type": "code",
   "execution_count": 60,
   "metadata": {},
   "outputs": [
    {
     "data": {
      "image/png": "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\n",
      "text/plain": [
       "<Figure size 432x288 with 1 Axes>"
      ]
     },
     "metadata": {
      "needs_background": "light"
     },
     "output_type": "display_data"
    }
   ],
   "source": [
    "reg=sns.regplot(x=df['sqft_above'],y=df['price'])"
   ]
  },
  {
   "cell_type": "markdown",
   "metadata": {},
   "source": [
    "\n",
    "We can use the Pandas method <code>corr()</code>  to find the feature other than price that is most correlated with price."
   ]
  },
  {
   "cell_type": "code",
   "execution_count": 62,
   "metadata": {},
   "outputs": [
    {
     "data": {
      "text/plain": [
       "zipcode         -0.053203\n",
       "long             0.021626\n",
       "condition        0.036362\n",
       "yr_built         0.054012\n",
       "sqft_lot15       0.082447\n",
       "sqft_lot         0.089661\n",
       "yr_renovated     0.126434\n",
       "floors           0.256794\n",
       "waterfront       0.266369\n",
       "lat              0.307003\n",
       "bedrooms         0.308797\n",
       "sqft_basement    0.323816\n",
       "view             0.397293\n",
       "bathrooms        0.525738\n",
       "sqft_living15    0.585379\n",
       "sqft_above       0.605567\n",
       "grade            0.667434\n",
       "sqft_living      0.702035\n",
       "price            1.000000\n",
       "Name: price, dtype: float64"
      ]
     },
     "execution_count": 62,
     "metadata": {},
     "output_type": "execute_result"
    }
   ],
   "source": [
    "df.corr()['price'].sort_values()"
   ]
  },
  {
   "cell_type": "markdown",
   "metadata": {},
   "source": [
    "# Module 4: Model Development"
   ]
  },
  {
   "cell_type": "markdown",
   "metadata": {},
   "source": [
    "Import libraries "
   ]
  },
  {
   "cell_type": "code",
   "execution_count": 63,
   "metadata": {},
   "outputs": [],
   "source": [
    "import matplotlib.pyplot as plt\n",
    "from sklearn.linear_model import LinearRegression"
   ]
  },
  {
   "cell_type": "markdown",
   "metadata": {},
   "source": [
    "\n",
    "We can Fit a linear regression model using the  longitude feature <code> 'long'</code> and  caculate the R^2."
   ]
  },
  {
   "cell_type": "code",
   "execution_count": 64,
   "metadata": {},
   "outputs": [
    {
     "data": {
      "text/plain": [
       "0.00046769430149007363"
      ]
     },
     "execution_count": 64,
     "metadata": {},
     "output_type": "execute_result"
    }
   ],
   "source": [
    "X = df[['long']]\n",
    "Y = df['price']\n",
    "lm = LinearRegression()\n",
    "lm\n",
    "lm.fit(X,Y)\n",
    "lm.score(X, Y)"
   ]
  },
  {
   "cell_type": "markdown",
   "metadata": {},
   "source": [
    "### Question  6\n",
    "Fit a linear regression model to predict the <code>'price'</code> using the feature 'sqft_living' then calculate the R^2. Take a screenshot of your code and the value of the R^2."
   ]
  },
  {
   "cell_type": "code",
   "execution_count": 65,
   "metadata": {},
   "outputs": [
    {
     "data": {
      "text/plain": [
       "0.3667117528382794"
      ]
     },
     "execution_count": 65,
     "metadata": {},
     "output_type": "execute_result"
    }
   ],
   "source": [
    "reg=LinearRegression()\n",
    "x=df[['sqft_above']]\n",
    "y=df['price']\n",
    "reg.fit(x,y)\n",
    "reg.score(x,y)"
   ]
  },
  {
   "cell_type": "markdown",
   "metadata": {},
   "source": [
    "### Question 7\n",
    "Fit a linear regression model to predict the 'price' using the list of features:"
   ]
  },
  {
   "cell_type": "code",
   "execution_count": 66,
   "metadata": {},
   "outputs": [],
   "source": [
    "features =[\"floors\", \"waterfront\",\"lat\" ,\"bedrooms\" ,\"sqft_basement\" ,\"view\" ,\"bathrooms\",\"sqft_living15\",\"sqft_above\",\"grade\",\"sqft_living\"]     "
   ]
  },
  {
   "cell_type": "markdown",
   "metadata": {},
   "source": [
    "the calculate the R^2. Take a screenshot of your code"
   ]
  },
  {
   "cell_type": "code",
   "execution_count": 69,
   "metadata": {},
   "outputs": [
    {
     "data": {
      "text/plain": [
       "0.6576951666037494"
      ]
     },
     "execution_count": 69,
     "metadata": {},
     "output_type": "execute_result"
    }
   ],
   "source": [
    "regr=LinearRegression()\n",
    "x=df[features]\n",
    "y=df['price']\n",
    "regr.fit(x,y)\n",
    "regr.score(x,y)"
   ]
  },
  {
   "cell_type": "markdown",
   "metadata": {},
   "source": [
    "#### this will help with Question 8\n",
    "\n",
    "Create a list of tuples, the first element in the tuple contains the name of the estimator:\n",
    "\n",
    "<code>'scale'</code>\n",
    "\n",
    "<code>'polynomial'</code>\n",
    "\n",
    "<code>'model'</code>\n",
    "\n",
    "The second element in the tuple  contains the model constructor \n",
    "\n",
    "<code>StandardScaler()</code>\n",
    "\n",
    "<code>PolynomialFeatures(include_bias=False)</code>\n",
    "\n",
    "<code>LinearRegression()</code>\n"
   ]
  },
  {
   "cell_type": "code",
   "execution_count": 70,
   "metadata": {},
   "outputs": [],
   "source": [
    "Input=[('scale',StandardScaler()),('polynomial', PolynomialFeatures(include_bias=False)),('model',LinearRegression())]"
   ]
  },
  {
   "cell_type": "markdown",
   "metadata": {},
   "source": [
    "### Question 8\n",
    "Use the list to create a pipeline object,  predict the 'price', fit the object using the features in the list <code> features </code>, then fit the model and calculate the R^2"
   ]
  },
  {
   "cell_type": "code",
   "execution_count": 80,
   "metadata": {},
   "outputs": [
    {
     "name": "stderr",
     "output_type": "stream",
     "text": [
      "C:\\ProgramData\\Anaconda3\\lib\\site-packages\\sklearn\\preprocessing\\data.py:645: DataConversionWarning: Data with input dtype int64, float64 were all converted to float64 by StandardScaler.\n",
      "  return self.partial_fit(X, y)\n",
      "C:\\ProgramData\\Anaconda3\\lib\\site-packages\\sklearn\\base.py:467: DataConversionWarning: Data with input dtype int64, float64 were all converted to float64 by StandardScaler.\n",
      "  return self.fit(X, y, **fit_params).transform(X)\n",
      "C:\\ProgramData\\Anaconda3\\lib\\site-packages\\sklearn\\pipeline.py:511: DataConversionWarning: Data with input dtype int64, float64 were all converted to float64 by StandardScaler.\n",
      "  Xt = transform.transform(Xt)\n"
     ]
    },
    {
     "data": {
      "text/plain": [
       "0.7513404614351351"
      ]
     },
     "execution_count": 80,
     "metadata": {},
     "output_type": "execute_result"
    }
   ],
   "source": [
    "pipe=Pipeline(Input)\n",
    "pipe.fit(x,y)\n",
    "pipe.score(x,y)"
   ]
  },
  {
   "cell_type": "markdown",
   "metadata": {},
   "source": [
    "# Module 5: MODEL EVALUATION AND REFINEMENT"
   ]
  },
  {
   "cell_type": "markdown",
   "metadata": {},
   "source": [
    "import the necessary modules  "
   ]
  },
  {
   "cell_type": "code",
   "execution_count": 85,
   "metadata": {},
   "outputs": [
    {
     "name": "stdout",
     "output_type": "stream",
     "text": [
      "done\n"
     ]
    }
   ],
   "source": [
    "from sklearn.model_selection import cross_val_score\n",
    "from sklearn.model_selection import train_test_split\n",
    "print(\"done\")"
   ]
  },
  {
   "cell_type": "markdown",
   "metadata": {},
   "source": [
    "we will split the data into training and testing set"
   ]
  },
  {
   "cell_type": "code",
   "execution_count": 86,
   "metadata": {},
   "outputs": [
    {
     "name": "stdout",
     "output_type": "stream",
     "text": [
      "number of test samples : 3242\n",
      "number of training samples: 18371\n"
     ]
    }
   ],
   "source": [
    "features =[\"floors\", \"waterfront\",\"lat\" ,\"bedrooms\" ,\"sqft_basement\" ,\"view\" ,\"bathrooms\",\"sqft_living15\",\"sqft_above\",\"grade\",\"sqft_living\"]    \n",
    "X = df[features ]\n",
    "Y = df['price']\n",
    "\n",
    "x_train, x_test, y_train, y_test = train_test_split(X, Y, test_size=0.15, random_state=1)\n",
    "\n",
    "\n",
    "print(\"number of test samples :\", x_test.shape[0])\n",
    "print(\"number of training samples:\",x_train.shape[0])"
   ]
  },
  {
   "cell_type": "markdown",
   "metadata": {},
   "source": [
    "### Question 9\n",
    "Create and fit a Ridge regression object using the training data, setting the regularization parameter to 0.1 and calculate the R^2 using the test data. \n"
   ]
  },
  {
   "cell_type": "code",
   "execution_count": 98,
   "metadata": {},
   "outputs": [],
   "source": [
    "from sklearn.linear_model import Ridge"
   ]
  },
  {
   "cell_type": "code",
   "execution_count": 97,
   "metadata": {},
   "outputs": [
    {
     "data": {
      "text/plain": [
       "0.6576951534165589"
      ]
     },
     "execution_count": 97,
     "metadata": {},
     "output_type": "execute_result"
    }
   ],
   "source": [
    "rm=Ridge(alpha=0.1)\n",
    "rm.fit(X,Y)\n",
    "yhat=rm.predict(X)\n",
    "rm.score(X,Y)"
   ]
  },
  {
   "cell_type": "markdown",
   "metadata": {},
   "source": [
    "### Question 10\n",
    "Perform a second order polynomial transform on both the training data and testing data. Create and fit a Ridge regression object using the training data, setting the regularisation parameter to 0.1.  Calculate the R^2 utilising the test data provided. Take a screenshot of your code and the R^2."
   ]
  },
  {
   "cell_type": "code",
   "execution_count": 100,
   "metadata": {},
   "outputs": [
    {
     "data": {
      "text/plain": [
       "0.7002744265869922"
      ]
     },
     "execution_count": 100,
     "metadata": {},
     "output_type": "execute_result"
    }
   ],
   "source": [
    "from sklearn.preprocessing import PolynomialFeatures\n",
    "\n",
    "p=PolynomialFeatures(degree=2)\n",
    "x_train_p=p.fit_transform(x_train,y_train)\n",
    "x_test_p=p.fit_transform(x_test,y_test)\n",
    "reg=Ridge(alpha=0.1)\n",
    "reg.fit(x_train_p,y_train)\n",
    "reg.score(x_test_p,y_test)"
   ]
  },
,
  {
   "cell_type": "code",
   "execution_count": null,
   "metadata": {},
   "outputs": [],
   "source": []
  }
 ],
 "metadata": {
  "kernelspec": {
   "display_name": "Python 3",
   "language": "python",
   "name": "python3"
  },
  "language_info": {
   "codemirror_mode": {
    "name": "ipython",
    "version": 3
   },
   "file_extension": ".py",
   "mimetype": "text/x-python",
   "name": "python",
   "nbconvert_exporter": "python",
   "pygments_lexer": "ipython3",
   "version": "3.7.3"
  },
  "widgets": {
   "state": {},
   "version": "1.1.2"
  }
 },
 "nbformat": 4,
 "nbformat_minor": 2
}
