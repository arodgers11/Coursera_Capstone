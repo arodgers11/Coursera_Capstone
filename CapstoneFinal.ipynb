{
 "cells": [
  {
   "cell_type": "markdown",
   "metadata": {},
   "source": [
    "# Capstone Project - The Battle of the Neighborhoods (Week 2)\n",
    "### Andrew Rodgers"
   ]
  },
  {
   "cell_type": "markdown",
   "metadata": {},
   "source": [
    "## Introduction\n",
    "Akron, Ohio has many restaurants already, but we have a client who wants to open a new Chinese restaurant in the city. In addition to hosting many different neighborhoods, Akron also has a large population of commuter workers during the week. Most of these workers come from the cities and towns immediatley outside the city.  \n",
    "\n",
    "Our client wants the new restaurant to be as close to as many Akron residents as possible to maximize potential customers. The restaurant must also be in an urban area, so not in the middle of a highly residential neighborhood. Additionally, he wants it to be near other restaurants, preferably close to another Chinese restaurant, to increase competition.  \n",
    "\n",
    "We will use data science, along with some cool math, to suggest a few attractive locations."
   ]
  },
  {
   "cell_type": "markdown",
   "metadata": {},
   "source": [
    "## Data\n",
    "To find a possible solution for the client, we will use data from several sources: \n",
    "* 2017 zip code population data (US Census Bureau)\n",
    "* Zip codes in and around Akron (https://www.zipmap.net/Ohio/Summit_County/Akron.htm)\n",
    "  * Geographic centers of those zip codes (https://gist.github.com/erichurst/7882666)\n",
    "* Foursquare API to find Chinese restaurants in Akron\n",
    "\n",
    "Akron has different neighborhoods, but they are small or have poorly defined locations. To avoid this, we can use the zip codes of Akron and its surrounding suburbs instead. Since zip codes are oddly shaped, we will use the geographic center of each zip code, treating each it as a point population. Then, we can use a dot product to measure each potential location's attractiveness. The attracvtiveness dot product for a given point **P** is equal to:  \n",
    "\n",
    "<img src=\"https://github.com/arodgers11/Coursera_Capstone/blob/master/Personal/sum.png?raw=true\" width=\"400\"/>\n",
    "\n",
    "    \n",
    "To satisfy the first requirment, maximum accessibility, we can find some points ${P_1,P_2,...}$ that are local minima for all potential points in the city. But first, we need to gather the lat/lon data for zip codes."
   ]
  },
  {
   "cell_type": "code",
   "execution_count": 6,
   "metadata": {},
   "outputs": [
    {
     "ename": "ModuleNotFoundError",
     "evalue": "No module named 'folium'",
     "output_type": "error",
     "traceback": [
      "\u001b[1;31m---------------------------------------------------------------------------\u001b[0m",
      "\u001b[1;31mModuleNotFoundError\u001b[0m                       Traceback (most recent call last)",
      "\u001b[1;32m<ipython-input-6-4ff7629b87f9>\u001b[0m in \u001b[0;36m<module>\u001b[1;34m\u001b[0m\n\u001b[0;32m      1\u001b[0m \u001b[1;32mimport\u001b[0m \u001b[0mrequests\u001b[0m  \u001b[1;31m#access APIs\u001b[0m\u001b[1;33m\u001b[0m\u001b[1;33m\u001b[0m\u001b[0m\n\u001b[1;32m----> 2\u001b[1;33m \u001b[1;32mimport\u001b[0m \u001b[0mfolium\u001b[0m  \u001b[1;31m#create map\u001b[0m\u001b[1;33m\u001b[0m\u001b[1;33m\u001b[0m\u001b[0m\n\u001b[0m\u001b[0;32m      3\u001b[0m \u001b[1;32mimport\u001b[0m \u001b[0mpandas\u001b[0m \u001b[1;32mas\u001b[0m \u001b[0mpd\u001b[0m  \u001b[1;31m#data manipulation\u001b[0m\u001b[1;33m\u001b[0m\u001b[1;33m\u001b[0m\u001b[0m\n\u001b[0;32m      4\u001b[0m \u001b[1;32mimport\u001b[0m \u001b[0mmatplotlib\u001b[0m\u001b[1;33m.\u001b[0m\u001b[0mpyplot\u001b[0m \u001b[1;32mas\u001b[0m \u001b[0mplt\u001b[0m  \u001b[1;31m#scatterplots\u001b[0m\u001b[1;33m\u001b[0m\u001b[1;33m\u001b[0m\u001b[0m\n\u001b[0;32m      5\u001b[0m \u001b[1;32mfrom\u001b[0m \u001b[0mmath\u001b[0m \u001b[1;32mimport\u001b[0m \u001b[0msin\u001b[0m\u001b[1;33m,\u001b[0m\u001b[0mcos\u001b[0m\u001b[1;33m,\u001b[0m\u001b[0msqrt\u001b[0m\u001b[1;33m,\u001b[0m\u001b[0masin\u001b[0m\u001b[1;33m,\u001b[0m\u001b[0matan2\u001b[0m\u001b[1;33m,\u001b[0m\u001b[0mpow\u001b[0m\u001b[1;33m,\u001b[0m\u001b[0macos\u001b[0m  \u001b[1;31m#operations to convert spherical to cartesian\u001b[0m\u001b[1;33m\u001b[0m\u001b[1;33m\u001b[0m\u001b[0m\n",
      "\u001b[1;31mModuleNotFoundError\u001b[0m: No module named 'folium'"
     ]
    }
   ],
   "source": [
    "import requests  #access APIs\n",
    "import folium  #create map\n",
    "import pandas as pd  #data manipulation\n",
    "import matplotlib.pyplot as plt  #scatterplots\n",
    "from math import sin,cos,sqrt,asin,atan2,pow,acos  #operations to convert spherical to cartesian\n",
    "import utm #utm module for lat/lon to x/y\n",
    "from geopy.geocoders import Nominatim  #geolocator data\n",
    "from datetime import datetime  #date for API requests\n",
    "\n",
    "#get census data for zip codes\n",
    "url='https://api.census.gov/data/2017/acs/acs5/subject'\n",
    "key='7bad81938d25611bd2d0362e77c32f0594ea0243'\n",
    "zips='44301,44302,44303,44304,44305,44306,44307,44308,44310,44311,44313,44314,44320'\n",
    "call='%s?key=%s&get=NAME,S0101_C01_001E&for=zip%%20code%%20tabulation%%20area:%s'\n",
    "call = call % (url,key,zips)\n",
    "\n",
    "resp=requests.get(call).json()\n",
    "\n",
    "df=pd.DataFrame(columns=['name','population','zip'],data=resp[1:])\n",
    "df=df[['zip','population']]\n",
    "df=df.sort_values(by=['zip']).reset_index(drop=True)\n",
    "df=df.astype(int)\n",
    "\n",
    "git='https://github.com/arodgers11/Coursera_Capstone/blob/master/Personal/centerzips.txt?raw=True'\n",
    "\n",
    "df2 = pd.read_csv(git,sep=\",\",header=0)\n",
    "df['lat']=df2['LAT']\n",
    "df['lon']=df2['LNG']\n",
    "\n",
    "address='Akron, OH'\n",
    "geolocator = Nominatim(user_agent=\"akron_zips\")\n",
    "location = geolocator.geocode(address)\n",
    "latitude = location.latitude\n",
    "longitude = location.longitude\n",
    "map_akron = folium.Map(location=[latitude, longitude], zoom_start=12)\n",
    "\n",
    "for lat, lon, zipcode, pop in zip(df['lat'], df['lon'], df['zip'],df['population']):\n",
    "    label = \"zip:{}\\n pop:{}\".format(zipcode,pop)\n",
    "    label = folium.Popup(label, parse_html=True)\n",
    "    folium.CircleMarker(\n",
    "        [lat, lon],\n",
    "        radius=5,\n",
    "        popup=label,\n",
    "        color='#ce1141',\n",
    "        fill=True,\n",
    "        fill_color='#ce1141',\n",
    "        fill_opacity=0.5,\n",
    "        parse_html=False).add_to(map_akron)\n",
    "    \n",
    "df.head()"
   ]
  },
  {
   "cell_type": "markdown",
   "metadata": {},
   "source": [
    "Now that we have geographic and population data for each zip code, we can write these to the dataframe **df**, above. The next step is to find the lat/lon data for Chinese restaurants in Akron. We export the location data to a *csv* file, <a href=\"https://github.com/arodgers11/Coursera_Capstone/blob/master/Personal/ch.csv?raw=true\">ch.csv</a>. We use this in **R** to calculate the total disatances between attractive locations and Chinese restaurants."
   ]
  },
  {
   "cell_type": "code",
   "execution_count": 5,
   "metadata": {},
   "outputs": [
    {
     "ename": "NameError",
     "evalue": "name 'pd' is not defined",
     "output_type": "error",
     "traceback": [
      "\u001b[1;31m---------------------------------------------------------------------------\u001b[0m",
      "\u001b[1;31mNameError\u001b[0m                                 Traceback (most recent call last)",
      "\u001b[1;32m<ipython-input-5-bcf81e85d1c8>\u001b[0m in \u001b[0;36m<module>\u001b[1;34m\u001b[0m\n\u001b[1;32m----> 1\u001b[1;33m \u001b[0mch\u001b[0m\u001b[1;33m=\u001b[0m\u001b[0mpd\u001b[0m\u001b[1;33m.\u001b[0m\u001b[0mread_csv\u001b[0m\u001b[1;33m(\u001b[0m\u001b[1;34m\"https://github.com/arodgers11/Coursera_Capstone/blob/master/Personal/ch.csv?raw=true\"\u001b[0m\u001b[1;33m,\u001b[0m\u001b[0msep\u001b[0m\u001b[1;33m=\u001b[0m\u001b[1;34m\",\"\u001b[0m\u001b[1;33m,\u001b[0m\u001b[0mheader\u001b[0m\u001b[1;33m=\u001b[0m\u001b[1;36m0\u001b[0m\u001b[1;33m)\u001b[0m\u001b[1;33m\u001b[0m\u001b[1;33m\u001b[0m\u001b[0m\n\u001b[0m\u001b[0;32m      2\u001b[0m \u001b[0mch\u001b[0m\u001b[1;33m.\u001b[0m\u001b[0mhead\u001b[0m\u001b[1;33m(\u001b[0m\u001b[1;33m)\u001b[0m\u001b[1;33m\u001b[0m\u001b[1;33m\u001b[0m\u001b[0m\n",
      "\u001b[1;31mNameError\u001b[0m: name 'pd' is not defined"
     ]
    }
   ],
   "source": [
    "ch=pd.read_csv(\"https://github.com/arodgers11/Coursera_Capstone/blob/master/Personal/ch.csv?raw=true\",sep=\",\",header=0)\n",
    "ch.head()"
   ]
  },
  {
   "cell_type": "code",
   "execution_count": 4,
   "metadata": {},
   "outputs": [
    {
     "ename": "KeyError",
     "evalue": "'groups'",
     "output_type": "error",
     "traceback": [
      "\u001b[1;31m---------------------------------------------------------------------------\u001b[0m",
      "\u001b[1;31mKeyError\u001b[0m                                  Traceback (most recent call last)",
      "\u001b[1;32m<ipython-input-4-1f1673d36314>\u001b[0m in \u001b[0;36m<module>\u001b[1;34m\u001b[0m\n\u001b[0;32m     13\u001b[0m )\n\u001b[0;32m     14\u001b[0m \u001b[0mresp\u001b[0m \u001b[1;33m=\u001b[0m \u001b[0mrequests\u001b[0m\u001b[1;33m.\u001b[0m\u001b[0mget\u001b[0m\u001b[1;33m(\u001b[0m\u001b[0murl\u001b[0m\u001b[1;33m=\u001b[0m\u001b[0murl\u001b[0m\u001b[1;33m,\u001b[0m \u001b[0mparams\u001b[0m\u001b[1;33m=\u001b[0m\u001b[0mparams\u001b[0m\u001b[1;33m)\u001b[0m\u001b[1;33m.\u001b[0m\u001b[0mjson\u001b[0m\u001b[1;33m(\u001b[0m\u001b[1;33m)\u001b[0m\u001b[1;33m\u001b[0m\u001b[1;33m\u001b[0m\u001b[0m\n\u001b[1;32m---> 15\u001b[1;33m \u001b[0mr\u001b[0m \u001b[1;33m=\u001b[0m \u001b[0mresp\u001b[0m\u001b[1;33m[\u001b[0m\u001b[1;34m'response'\u001b[0m\u001b[1;33m]\u001b[0m\u001b[1;33m[\u001b[0m\u001b[1;34m'groups'\u001b[0m\u001b[1;33m]\u001b[0m\u001b[1;33m[\u001b[0m\u001b[1;36m0\u001b[0m\u001b[1;33m]\u001b[0m\u001b[1;33m[\u001b[0m\u001b[1;34m'items'\u001b[0m\u001b[1;33m]\u001b[0m\u001b[1;33m\u001b[0m\u001b[1;33m\u001b[0m\u001b[0m\n\u001b[0m\u001b[0;32m     16\u001b[0m \u001b[0mlat\u001b[0m\u001b[1;33m=\u001b[0m\u001b[1;33m[\u001b[0m\u001b[1;33m]\u001b[0m\u001b[1;33m\u001b[0m\u001b[1;33m\u001b[0m\u001b[0m\n\u001b[0;32m     17\u001b[0m \u001b[0mlon\u001b[0m\u001b[1;33m=\u001b[0m\u001b[1;33m[\u001b[0m\u001b[1;33m]\u001b[0m\u001b[1;33m\u001b[0m\u001b[1;33m\u001b[0m\u001b[0m\n",
      "\u001b[1;31mKeyError\u001b[0m: 'groups'"
     ]
    }
   ],
   "source": [
    "url = 'https://api.foursquare.com/v2/venues/explore'\n",
    "\n",
    "params = dict(\n",
    "  client_id='DYLLTWFBCB0RPXB3RKFNAWYZGXGJMGCKPGMPG4LEKLQ4MFSL',\n",
    "  client_secret='TBKXLTH2RESZKL5FFAF1I5HKQF1AERA0WKRKXY444YCHT1KO',\n",
    "  v=datetime.today().strftime('%Y%m%d'),\n",
    "  ll='41.075576, -81.511134', # UA campus lat/long\n",
    "  query='bar',\n",
    "  limit=100,\n",
    "  radius=1609*10 # miles from location\n",
    ")\n",
    "resp = requests.get(url=url, params=params).json()\n",
    "r = resp['response']['groups'][0]['items']\n",
    "lat=[]\n",
    "lon=[]\n",
    "name=[]\n",
    "for i in r:\n",
    "      name.append(i['venue']['name'])\n",
    "      lat.append(i['venue']['location']['lat'])\n",
    "      lon.append(i['venue']['location']['lng']) \n",
    "ch=pd.DataFrame(list(zip(name,lat,lon)),columns=['Name','lat','lon'])\n",
    "\n",
    "for name,lat,lon in zip(ch['Name'],ch['lat'],ch['lon']):\n",
    "    label = \"{}\".format(name)\n",
    "    label = folium.Popup(label, parse_html=True)\n",
    "    folium.CircleMarker(\n",
    "        [lat, lon],\n",
    "        radius=5,\n",
    "        popup=label,\n",
    "        color='#daa520',\n",
    "        fill=True,\n",
    "        fill_color='#daa520',\n",
    "        fill_opacity=0.5,\n",
    "        parse_html=False).add_to(map_akron)\n",
    "    \n",
    "map_akron"
   ]
  },
  {
   "cell_type": "markdown",
   "metadata": {},
   "source": [
    "The map shows the zip code centers (red), as well as the Chinese restaurants (yellow).  \n",
    "\n",
    "The code below doesn't work in notebooks but works on any other python comiler. It uses the **utm** module to convert lat/lon to UTM x/y coordiantes, which makes the distance calculations much easier. It writes the new x/y coordinates to another  *csv* file, <a href=\"https://github.com/arodgers11/Coursera_Capstone/blob/master/df.csv?raw=true\">df.csv</a>, for processing in **R**."
   ]
  },
  {
   "cell_type": "code",
   "execution_count": null,
   "metadata": {},
   "outputs": [],
   "source": [
    "x=[0]*len(ch)\n",
    "y=[0]*len(ch)\n",
    "for i in range(0,len(ch)):\n",
    "    lat=ch['lat'][i]\n",
    "    lon=ch['lon'][i]\n",
    "    x[i]=utm.from_latlon(lat,lon)[0]\n",
    "    y[i]=utm.from_latlon(lat,lon)[1]\n",
    "with open('ch.csv','w') as f:\n",
    "    ch.to_csv(f,index=False)\n",
    "\n",
    "x=[0]*len(df)\n",
    "y=[0]*len(df)\n",
    "for i in range(0,len(df)):\n",
    "    lat=df['lat'][i]\n",
    "    lon=df['lon'][i]\n",
    "x[i]=utm.from_latlon(lat,lon)[0]\n",
    "y[i]=utm.from_latlon(lat,lon)[1]\n",
    "df['x']=x\n",
    "df['y']=y\n",
    "\n",
    "with open('df.csv','w') as f:\n",
    "    df.to_csv(f,index=False)"
   ]
  },
  {
   "cell_type": "markdown",
   "metadata": {},
   "source": [
    "## Analysis in R\n",
    "This is the **R** code we used to manipuate the data and calculate the distances, as well as create the heatmap and scatter plots."
   ]
  },
  {
   "cell_type": "code",
   "execution_count": 5,
   "metadata": {},
   "outputs": [
    {
     "ename": "SyntaxError",
     "evalue": "invalid syntax (<ipython-input-5-470e716b3f21>, line 6)",
     "output_type": "error",
     "traceback": [
      "\u001b[1;36m  File \u001b[1;32m\"<ipython-input-5-470e716b3f21>\"\u001b[1;36m, line \u001b[1;32m6\u001b[0m\n\u001b[1;33m    df$xstd=df$x-mean(df$x)\u001b[0m\n\u001b[1;37m      ^\u001b[0m\n\u001b[1;31mSyntaxError\u001b[0m\u001b[1;31m:\u001b[0m invalid syntax\n"
     ]
    }
   ],
   "source": [
    "library(ggplot2)\n",
    "\n",
    "df <- read.csv(\"~/python/df.csv\")\n",
    "ch <- read.csv(\"~/python/ch.csv\")\n",
    "\n",
    "df$xstd=df$x-mean(df$x)\n",
    "df$ystd=df$y-mean(df$y)\n",
    "xmean=mean(df$x)\n",
    "ymean=mean(df$y)\n",
    "\n",
    "xrange=seq(-5000,6000,by=100)\n",
    "yrange=seq(-4500,6000,by=100)\n",
    "xlen=length(xrange)\n",
    "ylen=length(yrange)\n",
    "\n",
    "distance <- function(x,y,x1,y1) {\n",
    "  return(sqrt((x-x1)^2+(y-y1)^2))\n",
    "}\n",
    "\n",
    "d=matrix(0,nrow=xlen,ncol=ylen)\n",
    "\n",
    "data <- expand.grid(X=xrange, Y=yrange)\n",
    "\n",
    "for(x in 1:ylen)\n",
    "  for(y in 1:xlen) {\n",
    "    for(i in 1:length(df$zip))\n",
    "      d[y,x]=d[y,x]+distance(df$xstd[i],df$ystd[i],yrange[x],xrange[y])^0.1*df$population[i]*10^-6\n",
    "    d[y,x]=d[y,x]^3*100\n",
    "  }\n",
    "\n",
    "data$Z=matrix(unlist(d),nrow=xlen*ylen)\n",
    "\n",
    "row=c(11,14,9,37,43,47,49,58,65,82,83,110) \n",
    "col=c(18,48,82,51,29,1,101,62,36,38,73,7)\n",
    "\n",
    "ch$xstd=ch$x-mean(ch$x)\n",
    "ch$ystd=ch$y-mean(ch$y)\n",
    "\n",
    "empty=data.frame(rep(0,dim(pp)[1]))\n",
    "\n",
    "potential_points=data.frame('Location'=LETTERS[1:length(row)])\n",
    "potential_points$xstd=round(xrange[row],2)\n",
    "potential_points$ystd=round(yrange[col],2)\n",
    "potential_points$x=potential_points$xstd+xmean\n",
    "potential_points$y=potential_points$ystd+ymean\n",
    "\n",
    "pp=potential_points\n",
    "pp$row=row\n",
    "pp$col=col\n",
    "pp=pp[order(pp$row,decreasing = FALSE),]\n",
    "\n",
    "pp$dot=rep(0,dim(c)[1])\n",
    "for(i in 1:dim(pp)[1])\n",
    "  for(j in 1:length(ch$Name))\n",
    "    pp$dot[i]=pp$dot[i]+distance(ch$x[j],ch$y[j],pp$x[i],pp$y[i])\n",
    "\n",
    "p=ggplot(data, aes(X, Y, z=Z)) + geom_tile(aes(fill = Z))+ \n",
    "  theme_bw()+ \n",
    "  scale_fill_gradient(high=\"black\", low=\"white\")+\n",
    "  geom_point(data=df,aes(xstd,ystd),cex=3,shape=19,color='red',inherit.aes = FALSE)+\n",
    "  geom_point(data=empty,aes(xrange[pp$row],yrange[pp$col]),inherit.aes = FALSE,\n",
    "             shape=LETTERS[1:dim(pp)[1]],color='blue',cex=3)+\n",
    "  geom_point(data=ch,aes(xstd,ystd),inherit.aes = FALSE,\n",
    "             shape=17,color='yellow',cex=3)\n",
    "\n",
    "write.csv(pp,'~/python/potential_points.csv',row.names = FALSE)\n",
    "write.csv(t(d),'~/python/d.csv',row.names=FALSE)\n",
    "\n",
    "plot(p)"
   ]
  },
  {
   "cell_type": "markdown",
   "metadata": {},
   "source": [
    "Using **R**, we can create a heatmap of the attractiveness (Z) for every point in the map area. We standardized the x and y axes for more 'friendly' numbers. The resulting heatmap, after scaling by $1/1000000$, combined with the scatter plots of Chinese restaurants (yellow) and zip codes (red) looks like this:  \n",
    "\n",
    "<img src=\"https://github.com/arodgers11/Coursera_Capstone/blob/master/map.png?raw=true\"  width=\"800\" align='left'/>  \n"
   ]
  },
  {
   "cell_type": "markdown",
   "metadata": {},
   "source": [
    "Here we can see there are some clear bright spots, marked with blue letters, including some that are less bright. These points are local minima for the attractiveness of the location. These are the points we will consider for our proposal. We calcualted the total distance between each location and the restaurants and wrote to a file, <a href=\"https://github.com/arodgers11/Coursera_Capstone/blob/master/Personal/potential_points.csv\">potential_points.csv</a>.\n",
    "## Results From R\n",
    "After all the analysis in **R**, we end up with the reulsting data frame. Now, all we have left to do is map the locations, determine which qualifications are met by each location, and rank the qualifying locations for the client to make a decision."
   ]
  },
  {
   "cell_type": "markdown",
   "metadata": {},
   "source": [
    "We have to convert back to lat/lon to plot the locations on the map. Using some more code that will not work in notebooks, we can get the lat/long for each location."
   ]
  },
  {
   "cell_type": "code",
   "execution_count": 6,
   "metadata": {},
   "outputs": [
    {
     "ename": "NameError",
     "evalue": "name 'pp' is not defined",
     "output_type": "error",
     "traceback": [
      "\u001b[1;31m---------------------------------------------------------------------------\u001b[0m",
      "\u001b[1;31mNameError\u001b[0m                                 Traceback (most recent call last)",
      "\u001b[1;32m<ipython-input-6-5b25ebbc3b2e>\u001b[0m in \u001b[0;36m<module>\u001b[1;34m\u001b[0m\n\u001b[1;32m----> 1\u001b[1;33m \u001b[0mpp\u001b[0m\u001b[1;33m[\u001b[0m\u001b[1;34m'lat'\u001b[0m\u001b[1;33m]\u001b[0m\u001b[1;33m=\u001b[0m\u001b[1;33m[\u001b[0m\u001b[0mfloat\u001b[0m\u001b[1;33m(\u001b[0m\u001b[1;36m0\u001b[0m\u001b[1;33m)\u001b[0m\u001b[1;33m]\u001b[0m\u001b[1;33m*\u001b[0m\u001b[0mlen\u001b[0m\u001b[1;33m(\u001b[0m\u001b[0mpp\u001b[0m\u001b[1;33m)\u001b[0m\u001b[1;33m\u001b[0m\u001b[1;33m\u001b[0m\u001b[0m\n\u001b[0m\u001b[0;32m      2\u001b[0m \u001b[0mpp\u001b[0m\u001b[1;33m[\u001b[0m\u001b[1;34m'lon'\u001b[0m\u001b[1;33m]\u001b[0m\u001b[1;33m=\u001b[0m\u001b[1;33m[\u001b[0m\u001b[0mfloat\u001b[0m\u001b[1;33m(\u001b[0m\u001b[1;36m0\u001b[0m\u001b[1;33m)\u001b[0m\u001b[1;33m]\u001b[0m\u001b[1;33m*\u001b[0m\u001b[0mlen\u001b[0m\u001b[1;33m(\u001b[0m\u001b[0mpp\u001b[0m\u001b[1;33m)\u001b[0m\u001b[1;33m\u001b[0m\u001b[1;33m\u001b[0m\u001b[0m\n\u001b[0;32m      3\u001b[0m \u001b[1;32mfor\u001b[0m \u001b[0mi\u001b[0m \u001b[1;32min\u001b[0m \u001b[0mrange\u001b[0m\u001b[1;33m(\u001b[0m\u001b[1;36m0\u001b[0m\u001b[1;33m,\u001b[0m\u001b[0mlen\u001b[0m\u001b[1;33m(\u001b[0m\u001b[0mpp\u001b[0m\u001b[1;33m)\u001b[0m\u001b[1;33m)\u001b[0m\u001b[1;33m:\u001b[0m\u001b[1;33m\u001b[0m\u001b[1;33m\u001b[0m\u001b[0m\n\u001b[0;32m      4\u001b[0m     \u001b[0mpp\u001b[0m\u001b[1;33m[\u001b[0m\u001b[1;34m'lat'\u001b[0m\u001b[1;33m]\u001b[0m\u001b[1;33m[\u001b[0m\u001b[0mi\u001b[0m\u001b[1;33m]\u001b[0m\u001b[1;33m=\u001b[0m\u001b[0mutm\u001b[0m\u001b[1;33m.\u001b[0m\u001b[0mto_latlon\u001b[0m\u001b[1;33m(\u001b[0m\u001b[0mpp\u001b[0m\u001b[1;33m[\u001b[0m\u001b[1;34m'x'\u001b[0m\u001b[1;33m]\u001b[0m\u001b[1;33m[\u001b[0m\u001b[0mi\u001b[0m\u001b[1;33m]\u001b[0m\u001b[1;33m,\u001b[0m\u001b[0mpp\u001b[0m\u001b[1;33m[\u001b[0m\u001b[1;34m'y'\u001b[0m\u001b[1;33m]\u001b[0m\u001b[1;33m[\u001b[0m\u001b[0mi\u001b[0m\u001b[1;33m]\u001b[0m\u001b[1;33m,\u001b[0m\u001b[0mzone_number\u001b[0m\u001b[1;33m=\u001b[0m\u001b[1;36m17\u001b[0m\u001b[1;33m,\u001b[0m\u001b[0mzone_letter\u001b[0m\u001b[1;33m=\u001b[0m\u001b[1;34m'U'\u001b[0m\u001b[1;33m)\u001b[0m\u001b[1;33m[\u001b[0m\u001b[1;36m0\u001b[0m\u001b[1;33m]\u001b[0m\u001b[1;33m\u001b[0m\u001b[1;33m\u001b[0m\u001b[0m\n\u001b[0;32m      5\u001b[0m     \u001b[0mpp\u001b[0m\u001b[1;33m[\u001b[0m\u001b[1;34m'lon'\u001b[0m\u001b[1;33m]\u001b[0m\u001b[1;33m[\u001b[0m\u001b[0mi\u001b[0m\u001b[1;33m]\u001b[0m\u001b[1;33m=\u001b[0m\u001b[0mutm\u001b[0m\u001b[1;33m.\u001b[0m\u001b[0mto_latlon\u001b[0m\u001b[1;33m(\u001b[0m\u001b[0mpp\u001b[0m\u001b[1;33m[\u001b[0m\u001b[1;34m'x'\u001b[0m\u001b[1;33m]\u001b[0m\u001b[1;33m[\u001b[0m\u001b[0mi\u001b[0m\u001b[1;33m]\u001b[0m\u001b[1;33m,\u001b[0m\u001b[0mpp\u001b[0m\u001b[1;33m[\u001b[0m\u001b[1;34m'y'\u001b[0m\u001b[1;33m]\u001b[0m\u001b[1;33m[\u001b[0m\u001b[0mi\u001b[0m\u001b[1;33m]\u001b[0m\u001b[1;33m,\u001b[0m\u001b[0mzone_number\u001b[0m\u001b[1;33m=\u001b[0m\u001b[1;36m17\u001b[0m\u001b[1;33m,\u001b[0m\u001b[0mzone_letter\u001b[0m\u001b[1;33m=\u001b[0m\u001b[1;34m'U'\u001b[0m\u001b[1;33m)\u001b[0m\u001b[1;33m[\u001b[0m\u001b[1;36m1\u001b[0m\u001b[1;33m]\u001b[0m\u001b[1;33m\u001b[0m\u001b[1;33m\u001b[0m\u001b[0m\n",
      "\u001b[1;31mNameError\u001b[0m: name 'pp' is not defined"
     ]
    }
   ],
   "source": [
    "pp['lat']=[float(0)]*len(pp)\n",
    "pp['lon']=[float(0)]*len(pp) \n",
    "for i in range(0,len(pp)):\n",
    "    pp['lat'][i]=utm.to_latlon(pp['x'][i],pp['y'][i],zone_number=17,zone_letter='U')[0]\n",
    "    pp['lon'][i]=utm.to_latlon(pp['x'][i],pp['y'][i],zone_number=17,zone_letter='U')[1]\n",
    "    \n",
    "with open('potential_points.csv','w') as f:\n",
    "    pp.to_csv(f,index=False)"
   ]
  },
  {
   "cell_type": "code",
   "execution_count": 7,
   "metadata": {},
   "outputs": [
    {
     "ename": "NameError",
     "evalue": "name 'pd' is not defined",
     "output_type": "error",
     "traceback": [
      "\u001b[1;31m---------------------------------------------------------------------------\u001b[0m",
      "\u001b[1;31mNameError\u001b[0m                                 Traceback (most recent call last)",
      "\u001b[1;32m<ipython-input-7-ee64e508ac5f>\u001b[0m in \u001b[0;36m<module>\u001b[1;34m\u001b[0m\n\u001b[1;32m----> 1\u001b[1;33m \u001b[0mpp\u001b[0m\u001b[1;33m=\u001b[0m\u001b[0mpd\u001b[0m\u001b[1;33m.\u001b[0m\u001b[0mread_csv\u001b[0m\u001b[1;33m(\u001b[0m\u001b[1;34m\"https://github.com/arodgers11/Coursera_Capstone/blob/master/Personal/potential_points.csv?raw=true\"\u001b[0m\u001b[1;33m,\u001b[0m\u001b[0msep\u001b[0m\u001b[1;33m=\u001b[0m\u001b[1;34m\",\"\u001b[0m\u001b[1;33m,\u001b[0m\u001b[0mheader\u001b[0m\u001b[1;33m=\u001b[0m\u001b[1;36m0\u001b[0m\u001b[1;33m)\u001b[0m\u001b[1;33m\u001b[0m\u001b[1;33m\u001b[0m\u001b[0m\n\u001b[0m\u001b[0;32m      2\u001b[0m \u001b[0mpp\u001b[0m\u001b[1;33m.\u001b[0m\u001b[0mhead\u001b[0m\u001b[1;33m(\u001b[0m\u001b[1;33m)\u001b[0m\u001b[1;33m\u001b[0m\u001b[1;33m\u001b[0m\u001b[0m\n",
      "\u001b[1;31mNameError\u001b[0m: name 'pd' is not defined"
     ]
    }
   ],
   "source": [
    "pp=pd.read_csv(\"https://github.com/arodgers11/Coursera_Capstone/blob/master/Personal/potential_points.csv?raw=true\",sep=\",\",header=0)\n",
    "pp.head()"
   ]
  },
  {
   "cell_type": "markdown",
   "metadata": {},
   "source": [
    "Now we can add the candidate locations to our map and perform some more analysis."
   ]
  },
  {
   "cell_type": "code",
   "execution_count": 8,
   "metadata": {},
   "outputs": [
    {
     "ename": "NameError",
     "evalue": "name 'pp' is not defined",
     "output_type": "error",
     "traceback": [
      "\u001b[1;31m---------------------------------------------------------------------------\u001b[0m",
      "\u001b[1;31mNameError\u001b[0m                                 Traceback (most recent call last)",
      "\u001b[1;32m<ipython-input-8-e790418bb0a5>\u001b[0m in \u001b[0;36m<module>\u001b[1;34m\u001b[0m\n\u001b[1;32m----> 1\u001b[1;33m \u001b[1;32mfor\u001b[0m \u001b[0mname\u001b[0m\u001b[1;33m,\u001b[0m\u001b[0mlat\u001b[0m\u001b[1;33m,\u001b[0m\u001b[0mlon\u001b[0m \u001b[1;32min\u001b[0m \u001b[0mzip\u001b[0m\u001b[1;33m(\u001b[0m\u001b[0mpp\u001b[0m\u001b[1;33m[\u001b[0m\u001b[1;34m'Location'\u001b[0m\u001b[1;33m]\u001b[0m\u001b[1;33m,\u001b[0m\u001b[0mpp\u001b[0m\u001b[1;33m[\u001b[0m\u001b[1;34m'lat'\u001b[0m\u001b[1;33m]\u001b[0m\u001b[1;33m,\u001b[0m\u001b[0mpp\u001b[0m\u001b[1;33m[\u001b[0m\u001b[1;34m'lon'\u001b[0m\u001b[1;33m]\u001b[0m\u001b[1;33m)\u001b[0m\u001b[1;33m:\u001b[0m\u001b[1;33m\u001b[0m\u001b[1;33m\u001b[0m\u001b[0m\n\u001b[0m\u001b[0;32m      2\u001b[0m     \u001b[0mlabel\u001b[0m \u001b[1;33m=\u001b[0m \u001b[1;34m\"{}\"\u001b[0m\u001b[1;33m.\u001b[0m\u001b[0mformat\u001b[0m\u001b[1;33m(\u001b[0m\u001b[0mname\u001b[0m\u001b[1;33m)\u001b[0m\u001b[1;33m\u001b[0m\u001b[1;33m\u001b[0m\u001b[0m\n\u001b[0;32m      3\u001b[0m     \u001b[0mlabel\u001b[0m \u001b[1;33m=\u001b[0m \u001b[0mfolium\u001b[0m\u001b[1;33m.\u001b[0m\u001b[0mPopup\u001b[0m\u001b[1;33m(\u001b[0m\u001b[0mlabel\u001b[0m\u001b[1;33m,\u001b[0m \u001b[0mparse_html\u001b[0m\u001b[1;33m=\u001b[0m\u001b[1;32mTrue\u001b[0m\u001b[1;33m)\u001b[0m\u001b[1;33m\u001b[0m\u001b[1;33m\u001b[0m\u001b[0m\n\u001b[0;32m      4\u001b[0m     folium.CircleMarker(\n\u001b[0;32m      5\u001b[0m         \u001b[1;33m[\u001b[0m\u001b[0mlat\u001b[0m\u001b[1;33m,\u001b[0m \u001b[0mlon\u001b[0m\u001b[1;33m]\u001b[0m\u001b[1;33m,\u001b[0m\u001b[1;33m\u001b[0m\u001b[1;33m\u001b[0m\u001b[0m\n",
      "\u001b[1;31mNameError\u001b[0m: name 'pp' is not defined"
     ]
    }
   ],
   "source": [
    "for name,lat,lon in zip(pp['Location'],pp['lat'],pp['lon']):\n",
    "    label = \"{}\".format(name)\n",
    "    label = folium.Popup(label, parse_html=True)\n",
    "    folium.CircleMarker(\n",
    "        [lat, lon],\n",
    "        radius=5,\n",
    "        popup=label,\n",
    "        color='#0000ff',\n",
    "        fill=True,\n",
    "        fill_color='#0000ff',\n",
    "        fill_opacity=0.5,\n",
    "        parse_html=False).add_to(map_akron)\n",
    "map_akron"
   ]
  },
  {
   "cell_type": "markdown",
   "metadata": {},
   "source": [
    "Looking at the map, we can see a couple of problems.\n",
    "* C,G,H are in the middle of parks\n",
    "* L is right next to the airport and a dense residential area\n",
    "* A,B,F,E are in residential areas  \n",
    "\n",
    "We can eliminate these locations as possibilities, so our new dataframe looks like this."
   ]
  },
  {
   "cell_type": "code",
   "execution_count": 156,
   "metadata": {},
   "outputs": [
    {
     "data": {
      "text/html": [
       "<div>\n",
       "<style scoped>\n",
       "    .dataframe tbody tr th:only-of-type {\n",
       "        vertical-align: middle;\n",
       "    }\n",
       "\n",
       "    .dataframe tbody tr th {\n",
       "        vertical-align: top;\n",
       "    }\n",
       "\n",
       "    .dataframe thead th {\n",
       "        text-align: right;\n",
       "    }\n",
       "</style>\n",
       "<table border=\"1\" class=\"dataframe\">\n",
       "  <thead>\n",
       "    <tr style=\"text-align: right;\">\n",
       "      <th></th>\n",
       "      <th>Location</th>\n",
       "      <th>xstd</th>\n",
       "      <th>ystd</th>\n",
       "      <th>x</th>\n",
       "      <th>y</th>\n",
       "      <th>row</th>\n",
       "      <th>col</th>\n",
       "      <th>dot</th>\n",
       "      <th>lat</th>\n",
       "      <th>lon</th>\n",
       "    </tr>\n",
       "  </thead>\n",
       "  <tbody>\n",
       "    <tr>\n",
       "      <th>0</th>\n",
       "      <td>I</td>\n",
       "      <td>1400</td>\n",
       "      <td>-1000</td>\n",
       "      <td>457158.574684</td>\n",
       "      <td>4.546435e+06</td>\n",
       "      <td>65</td>\n",
       "      <td>36</td>\n",
       "      <td>54737.694790</td>\n",
       "      <td>41.068040</td>\n",
       "      <td>-81.509925</td>\n",
       "    </tr>\n",
       "    <tr>\n",
       "      <th>1</th>\n",
       "      <td>D</td>\n",
       "      <td>-1400</td>\n",
       "      <td>500</td>\n",
       "      <td>454358.574684</td>\n",
       "      <td>4.547935e+06</td>\n",
       "      <td>37</td>\n",
       "      <td>51</td>\n",
       "      <td>55512.009779</td>\n",
       "      <td>41.081399</td>\n",
       "      <td>-81.543362</td>\n",
       "    </tr>\n",
       "    <tr>\n",
       "      <th>2</th>\n",
       "      <td>J</td>\n",
       "      <td>3100</td>\n",
       "      <td>-800</td>\n",
       "      <td>458858.574684</td>\n",
       "      <td>4.546635e+06</td>\n",
       "      <td>82</td>\n",
       "      <td>38</td>\n",
       "      <td>61116.588899</td>\n",
       "      <td>41.069929</td>\n",
       "      <td>-81.489705</td>\n",
       "    </tr>\n",
       "    <tr>\n",
       "      <th>3</th>\n",
       "      <td>K</td>\n",
       "      <td>3200</td>\n",
       "      <td>2700</td>\n",
       "      <td>458958.574684</td>\n",
       "      <td>4.550135e+06</td>\n",
       "      <td>83</td>\n",
       "      <td>73</td>\n",
       "      <td>65445.249006</td>\n",
       "      <td>41.101461</td>\n",
       "      <td>-81.488748</td>\n",
       "    </tr>\n",
       "  </tbody>\n",
       "</table>\n",
       "</div>"
      ],
      "text/plain": [
       "  Location  xstd  ystd              x             y  row  col           dot  \\\n",
       "0        I  1400 -1000  457158.574684  4.546435e+06   65   36  54737.694790   \n",
       "1        D -1400   500  454358.574684  4.547935e+06   37   51  55512.009779   \n",
       "2        J  3100  -800  458858.574684  4.546635e+06   82   38  61116.588899   \n",
       "3        K  3200  2700  458958.574684  4.550135e+06   83   73  65445.249006   \n",
       "\n",
       "         lat        lon  \n",
       "0  41.068040 -81.509925  \n",
       "1  41.081399 -81.543362  \n",
       "2  41.069929 -81.489705  \n",
       "3  41.101461 -81.488748  "
      ]
     },
     "execution_count": 156,
     "metadata": {},
     "output_type": "execute_result"
    }
   ],
   "source": [
    "badlocations=['A','B','C','E','F','G','H','L']\n",
    "ppfinal=pp.loc[~pp['Location'].isin(badlocations)]\n",
    "ppfinal=ppfinal.sort_values(by=['dot']).reset_index(drop=True)\n",
    "ppfinal"
   ]
  },
  {
   "cell_type": "code",
   "execution_count": 157,
   "metadata": {},
   "outputs": [
    {
     "data": {
      "text/html": [
       "<div style=\"width:100%;\"><div style=\"position:relative;width:100%;height:0;padding-bottom:60%;\"><iframe src=\"data:text/html;charset=utf-8;base64,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\" style=\"position:absolute;width:100%;height:100%;left:0;top:0;border:none !important;\" allowfullscreen webkitallowfullscreen mozallowfullscreen></iframe></div></div>"
      ],
      "text/plain": [
       "<folium.folium.Map at 0x2679243c780>"
      ]
     },
     "execution_count": 157,
     "metadata": {},
     "output_type": "execute_result"
    }
   ],
   "source": [
    "address='Akron, OH'\n",
    "geolocator = Nominatim(user_agent=\"akron_zips\")\n",
    "location = geolocator.geocode(address)\n",
    "latitude = location.latitude\n",
    "longitude = location.longitude\n",
    "map_akron_final = folium.Map(location=[latitude, longitude], zoom_start=12)\n",
    "\n",
    "for lat, lon, name in zip(ppfinal['lat'], ppfinal['lon'], ppfinal['Location']):\n",
    "    label = \"{}\".format(name)\n",
    "    label = folium.Popup(label, parse_html=True)\n",
    "    folium.CircleMarker(\n",
    "        [lat, lon],\n",
    "        radius=5,\n",
    "        popup=label,\n",
    "        color='#0000FF',\n",
    "        fill=True,\n",
    "        fill_color='#0000FF',\n",
    "        fill_opacity=0.5,\n",
    "        parse_html=False).add_to(map_akron_final)\n",
    "map_akron_final"
   ]
  },
  {
   "cell_type": "markdown",
   "metadata": {},
   "source": [
    "# Conclusion\n",
    "We now have a ranked list of possible locations for our client to consider. There are other things to consider, but the cleint did not provide a list. However, we can always revisit the problem with more information. The legal, financial, and logistical implications of each location are for the reader to consider. Additionally, many other locations can be considered, but not here. "
   ]
  },
  {
   "cell_type": "markdown",
   "metadata": {},
   "source": [
    "<a href='https://arodg000.wixsite.com/website'>Blog Post</a>"
   ]
  },
  {
   "cell_type": "code",
   "execution_count": 8,
   "metadata": {},
   "outputs": [
    {
     "data": {
      "text/plain": [
       "(41.5051613, -81.6934446)"
      ]
     },
     "execution_count": 8,
     "metadata": {},
     "output_type": "execute_result"
    }
   ],
   "source": [
    "latitude,longitude"
   ]
  },
  {
   "cell_type": "code",
   "execution_count": null,
   "metadata": {},
   "outputs": [],
   "source": []
  }
 ],
 "metadata": {
  "kernelspec": {
   "display_name": "Python 3",
   "language": "python",
   "name": "python3"
  },
  "language_info": {
   "codemirror_mode": {
    "name": "ipython",
    "version": 3
   },
   "file_extension": ".py",
   "mimetype": "text/x-python",
   "name": "python",
   "nbconvert_exporter": "python",
   "pygments_lexer": "ipython3",
   "version": "3.7.6"
  }
 },
 "nbformat": 4,
 "nbformat_minor": 2
}
