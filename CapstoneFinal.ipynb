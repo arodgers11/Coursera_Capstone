{
 "cells": [
  {
   "cell_type": "markdown",
   "metadata": {},
   "source": [
    "# Capstone Project - The Battle of the Neighborhoods (Week 2)\n",
    "### Andrew Rodgers"
   ]
  },
  {
   "cell_type": "markdown",
   "metadata": {},
   "source": [
    "## Introduction\n",
    "Akron, Ohio has many restaurants already, but we have a client who wants to open a new Chinese restaurant in the city. In addition to hosting many different neighborhoods, Akron also has a large population of commuter workers during the week. Most of these workers come from the cities and towns immediatley outside the city.  \n",
    "\n",
    "Our client wants the new restaurant to be as close to as many Akron residents as possible to maximize potential customers. The restaurant must also be in an urban area, so not in the middle of a highly residential neighborhood. Additionally, he wants it to be near other restaurants, preferably close to another Chinese restaurant, to increase competition.  \n",
    "\n",
    "We will use data science, along with some cool math, to suggest a few attractive locations."
   ]
  },
  {
   "cell_type": "markdown",
   "metadata": {},
   "source": [
    "## Data\n",
    "To find a possible solution for the client, we will use data from several sources: \n",
    "* 2017 zip code population data (US Census Bureau)\n",
    "* Zip codes in and around Akron (https://www.zipmap.net/Ohio/Summit_County/Akron.htm)\n",
    "  * Geographic centers of those zip codes (https://gist.github.com/erichurst/7882666)\n",
    "* Foursquare API to find Chinese restaurants in Akron\n",
    "\n",
    "Akron has different neighborhoods, but they are small or have poorly defined locations. To avoid this, we can use the zip codes of Akron and its surrounding suburbs instead. Since zip codes are oddly shaped, we will use the geographic center of each zip code, treating each it as a point population. Then, we can use a dot product to measure each potential location's attractiveness. The attracvtiveness dot product for a given point **P** is equal to:  \n",
    "\n",
    "<img src=\"https://github.com/arodgers11/Coursera_Capstone/blob/master/sum.png?raw=true\" width=\"400\"/>  \n",
    "    \n",
    "To satisfy the first requirment, maximum accessibility, we can find some points ${P_1,P_2,...}$ that are local minima for all potential points in the city. But first, we need to gather the lat/lon data for zip codes."
   ]
  },
  {
   "cell_type": "code",
   "execution_count": 9,
   "metadata": {},
   "outputs": [
    {
     "data": {
      "text/html": [
       "<div>\n",
       "<style scoped>\n",
       "    .dataframe tbody tr th:only-of-type {\n",
       "        vertical-align: middle;\n",
       "    }\n",
       "\n",
       "    .dataframe tbody tr th {\n",
       "        vertical-align: top;\n",
       "    }\n",
       "\n",
       "    .dataframe thead th {\n",
       "        text-align: right;\n",
       "    }\n",
       "</style>\n",
       "<table border=\"1\" class=\"dataframe\">\n",
       "  <thead>\n",
       "    <tr style=\"text-align: right;\">\n",
       "      <th></th>\n",
       "      <th>zip</th>\n",
       "      <th>population</th>\n",
       "      <th>lat</th>\n",
       "      <th>lon</th>\n",
       "    </tr>\n",
       "  </thead>\n",
       "  <tbody>\n",
       "    <tr>\n",
       "      <td>0</td>\n",
       "      <td>44301</td>\n",
       "      <td>15509</td>\n",
       "      <td>41.043490</td>\n",
       "      <td>-81.524017</td>\n",
       "    </tr>\n",
       "    <tr>\n",
       "      <td>1</td>\n",
       "      <td>44302</td>\n",
       "      <td>5297</td>\n",
       "      <td>41.089437</td>\n",
       "      <td>-81.538663</td>\n",
       "    </tr>\n",
       "    <tr>\n",
       "      <td>2</td>\n",
       "      <td>44303</td>\n",
       "      <td>7683</td>\n",
       "      <td>41.104685</td>\n",
       "      <td>-81.536941</td>\n",
       "    </tr>\n",
       "    <tr>\n",
       "      <td>3</td>\n",
       "      <td>44304</td>\n",
       "      <td>5378</td>\n",
       "      <td>41.083177</td>\n",
       "      <td>-81.507852</td>\n",
       "    </tr>\n",
       "    <tr>\n",
       "      <td>4</td>\n",
       "      <td>44305</td>\n",
       "      <td>22586</td>\n",
       "      <td>41.075304</td>\n",
       "      <td>-81.461652</td>\n",
       "    </tr>\n",
       "  </tbody>\n",
       "</table>\n",
       "</div>"
      ],
      "text/plain": [
       "     zip  population        lat        lon\n",
       "0  44301       15509  41.043490 -81.524017\n",
       "1  44302        5297  41.089437 -81.538663\n",
       "2  44303        7683  41.104685 -81.536941\n",
       "3  44304        5378  41.083177 -81.507852\n",
       "4  44305       22586  41.075304 -81.461652"
      ]
     },
     "execution_count": 9,
     "metadata": {},
     "output_type": "execute_result"
    }
   ],
   "source": [
    "import requests  #access APIs\n",
    "import folium  #create map\n",
    "import pandas as pd  #data manipulation\n",
    "import matplotlib.pyplot as plt  #scatterplots\n",
    "from math import sin,cos,sqrt,asin,atan2,pow,acos  #operations to convert spherical to cartesian\n",
    "import utm #utm module for lat/lon to x/y\n",
    "from geopy.geocoders import Nominatim  #geolocator data\n",
    "from datetime import datetime  #date for API requests\n",
    "\n",
    "#get census data for zip codes\n",
    "url='https://api.census.gov/data/2017/acs/acs5/subject'\n",
    "key='7bad81938d25611bd2d0362e77c32f0594ea0243'\n",
    "zips='44301,44302,44303,44304,44305,44306,44307,44308,44310,44311,44313,44314,44320'\n",
    "call='%s?key=%s&get=NAME,S0101_C01_001E&for=zip%%20code%%20tabulation%%20area:%s'\n",
    "call = call % (url,key,zips)\n",
    "\n",
    "resp=requests.get(call).json()\n",
    "\n",
    "df=pd.DataFrame(columns=['name','population','zip'],data=resp[1:])\n",
    "df=df[['zip','population']]\n",
    "df=df.sort_values(by=['zip']).reset_index(drop=True)\n",
    "df=df.astype(int)\n",
    "\n",
    "git='https://github.com/arodgers11/Coursera_Capstone/blob//master/centerzips.txt?raw=True'\n",
    "\n",
    "df2 = pd.read_csv(git,sep=\",\",header=0)\n",
    "df['lat']=df2['LAT']\n",
    "df['lon']=df2['LNG']\n",
    "\n",
    "address='Akron, OH'\n",
    "geolocator = Nominatim(user_agent=\"akron_zips\")\n",
    "location = geolocator.geocode(address)\n",
    "latitude = location.latitude\n",
    "longitude = location.longitude\n",
    "map_akron = folium.Map(location=[latitude, longitude], zoom_start=12)\n",
    "\n",
    "for lat, lon, zipcode, pop in zip(df['lat'], df['lon'], df['zip'],df['population']):\n",
    "    label = \"zip:{}\\n pop:{}\".format(zipcode,pop)\n",
    "    label = folium.Popup(label, parse_html=True)\n",
    "    folium.CircleMarker(\n",
    "        [lat, lon],\n",
    "        radius=5,\n",
    "        popup=label,\n",
    "        color='#ce1141',\n",
    "        fill=True,\n",
    "        fill_color='#ce1141',\n",
    "        fill_opacity=0.5,\n",
    "        parse_html=False).add_to(map_akron)\n",
    "    \n",
    "df.head()"
   ]
  },
  {
   "cell_type": "markdown",
   "metadata": {},
   "source": [
    "Now that we have geographic and population data for each zip code, we can write these to the dataframe **df**, above. The next step is to find the lat/lon data for Chinese restaurants in Akron. We export the location data to a *csv* file, <a href=\"https://github.com/arodgers11/Coursera_Capstone/blob/master/ch.csv?raw=true\">ch.csv</a>. We use this in **R** to calculate the total disatances between attractive locations and Chinese restaurants."
   ]
  },
  {
   "cell_type": "code",
   "execution_count": 3,
   "metadata": {},
   "outputs": [
    {
     "data": {
      "text/html": [
       "<div>\n",
       "<style scoped>\n",
       "    .dataframe tbody tr th:only-of-type {\n",
       "        vertical-align: middle;\n",
       "    }\n",
       "\n",
       "    .dataframe tbody tr th {\n",
       "        vertical-align: top;\n",
       "    }\n",
       "\n",
       "    .dataframe thead th {\n",
       "        text-align: right;\n",
       "    }\n",
       "</style>\n",
       "<table border=\"1\" class=\"dataframe\">\n",
       "  <thead>\n",
       "    <tr style=\"text-align: right;\">\n",
       "      <th></th>\n",
       "      <th>Name</th>\n",
       "      <th>lat</th>\n",
       "      <th>lon</th>\n",
       "    </tr>\n",
       "  </thead>\n",
       "  <tbody>\n",
       "    <tr>\n",
       "      <td>0</td>\n",
       "      <td>Chin's Place</td>\n",
       "      <td>41.091892</td>\n",
       "      <td>-81.532700</td>\n",
       "    </tr>\n",
       "    <tr>\n",
       "      <td>1</td>\n",
       "      <td>Jade Dragon</td>\n",
       "      <td>41.071841</td>\n",
       "      <td>-81.493009</td>\n",
       "    </tr>\n",
       "    <tr>\n",
       "      <td>2</td>\n",
       "      <td>China Garden</td>\n",
       "      <td>41.091981</td>\n",
       "      <td>-81.533612</td>\n",
       "    </tr>\n",
       "    <tr>\n",
       "      <td>3</td>\n",
       "      <td>Panda Chinese Fast</td>\n",
       "      <td>41.072815</td>\n",
       "      <td>-81.513307</td>\n",
       "    </tr>\n",
       "    <tr>\n",
       "      <td>4</td>\n",
       "      <td>Platinum Dragon</td>\n",
       "      <td>41.096558</td>\n",
       "      <td>-81.543602</td>\n",
       "    </tr>\n",
       "  </tbody>\n",
       "</table>\n",
       "</div>"
      ],
      "text/plain": [
       "                 Name        lat        lon\n",
       "0        Chin's Place  41.091892 -81.532700\n",
       "1         Jade Dragon  41.071841 -81.493009\n",
       "2        China Garden  41.091981 -81.533612\n",
       "3  Panda Chinese Fast  41.072815 -81.513307\n",
       "4     Platinum Dragon  41.096558 -81.543602"
      ]
     },
     "execution_count": 3,
     "metadata": {},
     "output_type": "execute_result"
    }
   ],
   "source": [
    "ch=pd.read_csv(\"https://github.com/arodgers11/Coursera_Capstone/blob/master/ch.csv?raw=true\",sep=\",\",header=0)\n",
    "ch.head()"
   ]
  },
  {
   "cell_type": "code",
   "execution_count": 4,
   "metadata": {},
   "outputs": [
    {
     "ename": "KeyError",
     "evalue": "'groups'",
     "output_type": "error",
     "traceback": [
      "\u001b[1;31m---------------------------------------------------------------------------\u001b[0m",
      "\u001b[1;31mKeyError\u001b[0m                                  Traceback (most recent call last)",
      "\u001b[1;32m<ipython-input-4-1f1673d36314>\u001b[0m in \u001b[0;36m<module>\u001b[1;34m\u001b[0m\n\u001b[0;32m     13\u001b[0m )\n\u001b[0;32m     14\u001b[0m \u001b[0mresp\u001b[0m \u001b[1;33m=\u001b[0m \u001b[0mrequests\u001b[0m\u001b[1;33m.\u001b[0m\u001b[0mget\u001b[0m\u001b[1;33m(\u001b[0m\u001b[0murl\u001b[0m\u001b[1;33m=\u001b[0m\u001b[0murl\u001b[0m\u001b[1;33m,\u001b[0m \u001b[0mparams\u001b[0m\u001b[1;33m=\u001b[0m\u001b[0mparams\u001b[0m\u001b[1;33m)\u001b[0m\u001b[1;33m.\u001b[0m\u001b[0mjson\u001b[0m\u001b[1;33m(\u001b[0m\u001b[1;33m)\u001b[0m\u001b[1;33m\u001b[0m\u001b[1;33m\u001b[0m\u001b[0m\n\u001b[1;32m---> 15\u001b[1;33m \u001b[0mr\u001b[0m \u001b[1;33m=\u001b[0m \u001b[0mresp\u001b[0m\u001b[1;33m[\u001b[0m\u001b[1;34m'response'\u001b[0m\u001b[1;33m]\u001b[0m\u001b[1;33m[\u001b[0m\u001b[1;34m'groups'\u001b[0m\u001b[1;33m]\u001b[0m\u001b[1;33m[\u001b[0m\u001b[1;36m0\u001b[0m\u001b[1;33m]\u001b[0m\u001b[1;33m[\u001b[0m\u001b[1;34m'items'\u001b[0m\u001b[1;33m]\u001b[0m\u001b[1;33m\u001b[0m\u001b[1;33m\u001b[0m\u001b[0m\n\u001b[0m\u001b[0;32m     16\u001b[0m \u001b[0mlat\u001b[0m\u001b[1;33m=\u001b[0m\u001b[1;33m[\u001b[0m\u001b[1;33m]\u001b[0m\u001b[1;33m\u001b[0m\u001b[1;33m\u001b[0m\u001b[0m\n\u001b[0;32m     17\u001b[0m \u001b[0mlon\u001b[0m\u001b[1;33m=\u001b[0m\u001b[1;33m[\u001b[0m\u001b[1;33m]\u001b[0m\u001b[1;33m\u001b[0m\u001b[1;33m\u001b[0m\u001b[0m\n",
      "\u001b[1;31mKeyError\u001b[0m: 'groups'"
     ]
    }
   ],
   "source": [
    "url = 'https://api.foursquare.com/v2/venues/explore'\n",
    "\n",
    "params = dict(\n",
    "  client_id='DYLLTWFBCB0RPXB3RKFNAWYZGXGJMGCKPGMPG4LEKLQ4MFSL',\n",
    "  client_secret='TBKXLTH2RESZKL5FFAF1I5HKQF1AERA0WKRKXY444YCHT1KO',\n",
    "  v=datetime.today().strftime('%Y%m%d'),\n",
    "  ll='41.075576, -81.511134', # UA campus lat/long\n",
    "  query='bar',\n",
    "  limit=100,\n",
    "  radius=1609*10 # miles from location\n",
    ")\n",
    "resp = requests.get(url=url, params=params).json()\n",
    "r = resp['response']['groups'][0]['items']\n",
    "lat=[]\n",
    "lon=[]\n",
    "name=[]\n",
    "for i in r:\n",
    "      name.append(i['venue']['name'])\n",
    "      lat.append(i['venue']['location']['lat'])\n",
    "      lon.append(i['venue']['location']['lng']) \n",
    "ch=pd.DataFrame(list(zip(name,lat,lon)),columns=['Name','lat','lon'])\n",
    "\n",
    "for name,lat,lon in zip(ch['Name'],ch['lat'],ch['lon']):\n",
    "    label = \"{}\".format(name)\n",
    "    label = folium.Popup(label, parse_html=True)\n",
    "    folium.CircleMarker(\n",
    "        [lat, lon],\n",
    "        radius=5,\n",
    "        popup=label,\n",
    "        color='#daa520',\n",
    "        fill=True,\n",
    "        fill_color='#daa520',\n",
    "        fill_opacity=0.5,\n",
    "        parse_html=False).add_to(map_akron)\n",
    "    \n",
    "map_akron"
   ]
  },
  {
   "cell_type": "markdown",
   "metadata": {},
   "source": [
    "The map shows the zip code centers (red), as well as the Chinese restaurants (yellow).  \n",
    "\n",
    "The code below doesn't work in notebooks but works on any other python comiler. It uses the **utm** module to convert lat/lon to UTM x/y coordiantes, which makes the distance calculations much easier. It writes the new x/y coordinates to another  *csv* file, <a href=\"https://github.com/arodgers11/Coursera_Capstone/blob/master/df.csv?raw=true\">df.csv</a>, for processing in **R**."
   ]
  },
  {
   "cell_type": "code",
   "execution_count": null,
   "metadata": {},
   "outputs": [],
   "source": [
    "x=[0]*len(ch)\n",
    "y=[0]*len(ch)\n",
    "for i in range(0,len(ch)):\n",
    "    lat=ch['lat'][i]\n",
    "    lon=ch['lon'][i]\n",
    "    x[i]=utm.from_latlon(lat,lon)[0]\n",
    "    y[i]=utm.from_latlon(lat,lon)[1]\n",
    "with open('ch.csv','w') as f:\n",
    "    ch.to_csv(f,index=False)\n",
    "\n",
    "x=[0]*len(df)\n",
    "y=[0]*len(df)\n",
    "for i in range(0,len(df)):\n",
    "    lat=df['lat'][i]\n",
    "    lon=df['lon'][i]\n",
    "x[i]=utm.from_latlon(lat,lon)[0]\n",
    "y[i]=utm.from_latlon(lat,lon)[1]\n",
    "df['x']=x\n",
    "df['y']=y\n",
    "\n",
    "with open('df.csv','w') as f:\n",
    "    df.to_csv(f,index=False)"
   ]
  },
  {
   "cell_type": "markdown",
   "metadata": {},
   "source": [
    "## Analysis in R\n",
    "This is the **R** code we used to manipuate the data and calculate the distances, as well as create the heatmap and scatter plots."
   ]
  },
  {
   "cell_type": "code",
   "execution_count": 5,
   "metadata": {},
   "outputs": [
    {
     "ename": "SyntaxError",
     "evalue": "invalid syntax (<ipython-input-5-470e716b3f21>, line 6)",
     "output_type": "error",
     "traceback": [
      "\u001b[1;36m  File \u001b[1;32m\"<ipython-input-5-470e716b3f21>\"\u001b[1;36m, line \u001b[1;32m6\u001b[0m\n\u001b[1;33m    df$xstd=df$x-mean(df$x)\u001b[0m\n\u001b[1;37m      ^\u001b[0m\n\u001b[1;31mSyntaxError\u001b[0m\u001b[1;31m:\u001b[0m invalid syntax\n"
     ]
    }
   ],
   "source": [
    "library(ggplot2)\n",
    "\n",
    "df <- read.csv(\"~/python/df.csv\")\n",
    "ch <- read.csv(\"~/python/ch.csv\")\n",
    "\n",
    "df$xstd=df$x-mean(df$x)\n",
    "df$ystd=df$y-mean(df$y)\n",
    "xmean=mean(df$x)\n",
    "ymean=mean(df$y)\n",
    "\n",
    "xrange=seq(-5000,6000,by=100)\n",
    "yrange=seq(-4500,6000,by=100)\n",
    "xlen=length(xrange)\n",
    "ylen=length(yrange)\n",
    "\n",
    "distance <- function(x,y,x1,y1) {\n",
    "  return(sqrt((x-x1)^2+(y-y1)^2))\n",
    "}\n",
    "\n",
    "d=matrix(0,nrow=xlen,ncol=ylen)\n",
    "\n",
    "data <- expand.grid(X=xrange, Y=yrange)\n",
    "\n",
    "for(x in 1:ylen)\n",
    "  for(y in 1:xlen) {\n",
    "    for(i in 1:length(df$zip))\n",
    "      d[y,x]=d[y,x]+distance(df$xstd[i],df$ystd[i],yrange[x],xrange[y])^0.1*df$population[i]*10^-6\n",
    "    d[y,x]=d[y,x]^3*100\n",
    "  }\n",
    "\n",
    "data$Z=matrix(unlist(d),nrow=xlen*ylen)\n",
    "\n",
    "row=c(11,14,9,37,43,47,49,58,65,82,83,110) \n",
    "col=c(18,48,82,51,29,1,101,62,36,38,73,7)\n",
    "\n",
    "ch$xstd=ch$x-mean(ch$x)\n",
    "ch$ystd=ch$y-mean(ch$y)\n",
    "\n",
    "empty=data.frame(rep(0,dim(pp)[1]))\n",
    "\n",
    "potential_points=data.frame('Location'=LETTERS[1:length(row)])\n",
    "potential_points$xstd=round(xrange[row],2)\n",
    "potential_points$ystd=round(yrange[col],2)\n",
    "potential_points$x=potential_points$xstd+xmean\n",
    "potential_points$y=potential_points$ystd+ymean\n",
    "\n",
    "pp=potential_points\n",
    "pp$row=row\n",
    "pp$col=col\n",
    "pp=pp[order(pp$row,decreasing = FALSE),]\n",
    "\n",
    "pp$dot=rep(0,dim(c)[1])\n",
    "for(i in 1:dim(pp)[1])\n",
    "  for(j in 1:length(ch$Name))\n",
    "    pp$dot[i]=pp$dot[i]+distance(ch$x[j],ch$y[j],pp$x[i],pp$y[i])\n",
    "\n",
    "p=ggplot(data, aes(X, Y, z=Z)) + geom_tile(aes(fill = Z))+ \n",
    "  theme_bw()+ \n",
    "  scale_fill_gradient(high=\"black\", low=\"white\")+\n",
    "  geom_point(data=df,aes(xstd,ystd),cex=3,shape=19,color='red',inherit.aes = FALSE)+\n",
    "  geom_point(data=empty,aes(xrange[pp$row],yrange[pp$col]),inherit.aes = FALSE,\n",
    "             shape=LETTERS[1:dim(pp)[1]],color='blue',cex=3)+\n",
    "  geom_point(data=ch,aes(xstd,ystd),inherit.aes = FALSE,\n",
    "             shape=17,color='yellow',cex=3)\n",
    "\n",
    "write.csv(pp,'~/python/potential_points.csv',row.names = FALSE)\n",
    "write.csv(t(d),'~/python/d.csv',row.names=FALSE)\n",
    "\n",
    "plot(p)"
   ]
  },
  {
   "cell_type": "markdown",
   "metadata": {},
   "source": [
    "Using **R**, we can create a heatmap of the attractiveness (Z) for every point in the map area. We standardized the x and y axes for more 'friendly' numbers. The resulting heatmap, after scaling by $1/1000000$, combined with the scatter plots of Chinese restaurants (yellow) and zip codes (red) looks like this:  \n",
    "\n",
    "<img src=\"https://github.com/arodgers11/Coursera_Capstone/blob/master/map.png?raw=true\"  width=\"800\" align='left'/>  \n"
   ]
  },
  {
   "cell_type": "markdown",
   "metadata": {},
   "source": [
    "Here we can see there are some clear bright spots, marked with blue letters, including some that are less bright. These points are local minima for the attractiveness of the location. These are the points we will consider for our proposal. We calcualted the total distance between each location and the restaurants and wrote to a file, <a href=\"https://github.com/arodgers11/Coursera_Capstone/blob/master/potential_points.csv\">potential_points.csv</a>.\n",
    "## Results From R\n",
    "After all the analysis in **R**, we end up with the reulsting data frame. Now, all we have left to do is map the locations, determine which qualifications are met by each location, and rank the qualifying locations for the client to make a decision."
   ]
  },
  {
   "cell_type": "markdown",
   "metadata": {},
   "source": [
    "We have to convert back to lat/lon to plot the locations on the map. Using some more code that will not work in notebooks, we can get the lat/long for each location."
   ]
  },
  {
   "cell_type": "code",
   "execution_count": 6,
   "metadata": {},
   "outputs": [
    {
     "ename": "NameError",
     "evalue": "name 'pp' is not defined",
     "output_type": "error",
     "traceback": [
      "\u001b[1;31m---------------------------------------------------------------------------\u001b[0m",
      "\u001b[1;31mNameError\u001b[0m                                 Traceback (most recent call last)",
      "\u001b[1;32m<ipython-input-6-5b25ebbc3b2e>\u001b[0m in \u001b[0;36m<module>\u001b[1;34m\u001b[0m\n\u001b[1;32m----> 1\u001b[1;33m \u001b[0mpp\u001b[0m\u001b[1;33m[\u001b[0m\u001b[1;34m'lat'\u001b[0m\u001b[1;33m]\u001b[0m\u001b[1;33m=\u001b[0m\u001b[1;33m[\u001b[0m\u001b[0mfloat\u001b[0m\u001b[1;33m(\u001b[0m\u001b[1;36m0\u001b[0m\u001b[1;33m)\u001b[0m\u001b[1;33m]\u001b[0m\u001b[1;33m*\u001b[0m\u001b[0mlen\u001b[0m\u001b[1;33m(\u001b[0m\u001b[0mpp\u001b[0m\u001b[1;33m)\u001b[0m\u001b[1;33m\u001b[0m\u001b[1;33m\u001b[0m\u001b[0m\n\u001b[0m\u001b[0;32m      2\u001b[0m \u001b[0mpp\u001b[0m\u001b[1;33m[\u001b[0m\u001b[1;34m'lon'\u001b[0m\u001b[1;33m]\u001b[0m\u001b[1;33m=\u001b[0m\u001b[1;33m[\u001b[0m\u001b[0mfloat\u001b[0m\u001b[1;33m(\u001b[0m\u001b[1;36m0\u001b[0m\u001b[1;33m)\u001b[0m\u001b[1;33m]\u001b[0m\u001b[1;33m*\u001b[0m\u001b[0mlen\u001b[0m\u001b[1;33m(\u001b[0m\u001b[0mpp\u001b[0m\u001b[1;33m)\u001b[0m\u001b[1;33m\u001b[0m\u001b[1;33m\u001b[0m\u001b[0m\n\u001b[0;32m      3\u001b[0m \u001b[1;32mfor\u001b[0m \u001b[0mi\u001b[0m \u001b[1;32min\u001b[0m \u001b[0mrange\u001b[0m\u001b[1;33m(\u001b[0m\u001b[1;36m0\u001b[0m\u001b[1;33m,\u001b[0m\u001b[0mlen\u001b[0m\u001b[1;33m(\u001b[0m\u001b[0mpp\u001b[0m\u001b[1;33m)\u001b[0m\u001b[1;33m)\u001b[0m\u001b[1;33m:\u001b[0m\u001b[1;33m\u001b[0m\u001b[1;33m\u001b[0m\u001b[0m\n\u001b[0;32m      4\u001b[0m     \u001b[0mpp\u001b[0m\u001b[1;33m[\u001b[0m\u001b[1;34m'lat'\u001b[0m\u001b[1;33m]\u001b[0m\u001b[1;33m[\u001b[0m\u001b[0mi\u001b[0m\u001b[1;33m]\u001b[0m\u001b[1;33m=\u001b[0m\u001b[0mutm\u001b[0m\u001b[1;33m.\u001b[0m\u001b[0mto_latlon\u001b[0m\u001b[1;33m(\u001b[0m\u001b[0mpp\u001b[0m\u001b[1;33m[\u001b[0m\u001b[1;34m'x'\u001b[0m\u001b[1;33m]\u001b[0m\u001b[1;33m[\u001b[0m\u001b[0mi\u001b[0m\u001b[1;33m]\u001b[0m\u001b[1;33m,\u001b[0m\u001b[0mpp\u001b[0m\u001b[1;33m[\u001b[0m\u001b[1;34m'y'\u001b[0m\u001b[1;33m]\u001b[0m\u001b[1;33m[\u001b[0m\u001b[0mi\u001b[0m\u001b[1;33m]\u001b[0m\u001b[1;33m,\u001b[0m\u001b[0mzone_number\u001b[0m\u001b[1;33m=\u001b[0m\u001b[1;36m17\u001b[0m\u001b[1;33m,\u001b[0m\u001b[0mzone_letter\u001b[0m\u001b[1;33m=\u001b[0m\u001b[1;34m'U'\u001b[0m\u001b[1;33m)\u001b[0m\u001b[1;33m[\u001b[0m\u001b[1;36m0\u001b[0m\u001b[1;33m]\u001b[0m\u001b[1;33m\u001b[0m\u001b[1;33m\u001b[0m\u001b[0m\n\u001b[0;32m      5\u001b[0m     \u001b[0mpp\u001b[0m\u001b[1;33m[\u001b[0m\u001b[1;34m'lon'\u001b[0m\u001b[1;33m]\u001b[0m\u001b[1;33m[\u001b[0m\u001b[0mi\u001b[0m\u001b[1;33m]\u001b[0m\u001b[1;33m=\u001b[0m\u001b[0mutm\u001b[0m\u001b[1;33m.\u001b[0m\u001b[0mto_latlon\u001b[0m\u001b[1;33m(\u001b[0m\u001b[0mpp\u001b[0m\u001b[1;33m[\u001b[0m\u001b[1;34m'x'\u001b[0m\u001b[1;33m]\u001b[0m\u001b[1;33m[\u001b[0m\u001b[0mi\u001b[0m\u001b[1;33m]\u001b[0m\u001b[1;33m,\u001b[0m\u001b[0mpp\u001b[0m\u001b[1;33m[\u001b[0m\u001b[1;34m'y'\u001b[0m\u001b[1;33m]\u001b[0m\u001b[1;33m[\u001b[0m\u001b[0mi\u001b[0m\u001b[1;33m]\u001b[0m\u001b[1;33m,\u001b[0m\u001b[0mzone_number\u001b[0m\u001b[1;33m=\u001b[0m\u001b[1;36m17\u001b[0m\u001b[1;33m,\u001b[0m\u001b[0mzone_letter\u001b[0m\u001b[1;33m=\u001b[0m\u001b[1;34m'U'\u001b[0m\u001b[1;33m)\u001b[0m\u001b[1;33m[\u001b[0m\u001b[1;36m1\u001b[0m\u001b[1;33m]\u001b[0m\u001b[1;33m\u001b[0m\u001b[1;33m\u001b[0m\u001b[0m\n",
      "\u001b[1;31mNameError\u001b[0m: name 'pp' is not defined"
     ]
    }
   ],
   "source": [
    "pp['lat']=[float(0)]*len(pp)\n",
    "pp['lon']=[float(0)]*len(pp) \n",
    "for i in range(0,len(pp)):\n",
    "    pp['lat'][i]=utm.to_latlon(pp['x'][i],pp['y'][i],zone_number=17,zone_letter='U')[0]\n",
    "    pp['lon'][i]=utm.to_latlon(pp['x'][i],pp['y'][i],zone_number=17,zone_letter='U')[1]\n",
    "    \n",
    "with open('potential_points.csv','w') as f:\n",
    "    pp.to_csv(f,index=False)"
   ]
  },
  {
   "cell_type": "code",
   "execution_count": 142,
   "metadata": {},
   "outputs": [
    {
     "data": {
      "text/html": [
       "<div>\n",
       "<style scoped>\n",
       "    .dataframe tbody tr th:only-of-type {\n",
       "        vertical-align: middle;\n",
       "    }\n",
       "\n",
       "    .dataframe tbody tr th {\n",
       "        vertical-align: top;\n",
       "    }\n",
       "\n",
       "    .dataframe thead th {\n",
       "        text-align: right;\n",
       "    }\n",
       "</style>\n",
       "<table border=\"1\" class=\"dataframe\">\n",
       "  <thead>\n",
       "    <tr style=\"text-align: right;\">\n",
       "      <th></th>\n",
       "      <th>Location</th>\n",
       "      <th>xstd</th>\n",
       "      <th>ystd</th>\n",
       "      <th>x</th>\n",
       "      <th>y</th>\n",
       "      <th>row</th>\n",
       "      <th>col</th>\n",
       "      <th>dot</th>\n",
       "      <th>lat</th>\n",
       "      <th>lon</th>\n",
       "    </tr>\n",
       "  </thead>\n",
       "  <tbody>\n",
       "    <tr>\n",
       "      <th>0</th>\n",
       "      <td>C</td>\n",
       "      <td>-4200</td>\n",
       "      <td>3600</td>\n",
       "      <td>451558.574684</td>\n",
       "      <td>4.551035e+06</td>\n",
       "      <td>9</td>\n",
       "      <td>82</td>\n",
       "      <td>89884.586173</td>\n",
       "      <td>41.109161</td>\n",
       "      <td>-81.576939</td>\n",
       "    </tr>\n",
       "    <tr>\n",
       "      <th>1</th>\n",
       "      <td>A</td>\n",
       "      <td>-4000</td>\n",
       "      <td>-2800</td>\n",
       "      <td>451758.574684</td>\n",
       "      <td>4.544635e+06</td>\n",
       "      <td>11</td>\n",
       "      <td>18</td>\n",
       "      <td>81351.005871</td>\n",
       "      <td>41.051524</td>\n",
       "      <td>-81.574055</td>\n",
       "    </tr>\n",
       "    <tr>\n",
       "      <th>2</th>\n",
       "      <td>B</td>\n",
       "      <td>-3700</td>\n",
       "      <td>200</td>\n",
       "      <td>452058.574684</td>\n",
       "      <td>4.547635e+06</td>\n",
       "      <td>14</td>\n",
       "      <td>48</td>\n",
       "      <td>70068.683467</td>\n",
       "      <td>41.078564</td>\n",
       "      <td>-81.570719</td>\n",
       "    </tr>\n",
       "    <tr>\n",
       "      <th>3</th>\n",
       "      <td>D</td>\n",
       "      <td>-1400</td>\n",
       "      <td>500</td>\n",
       "      <td>454358.574684</td>\n",
       "      <td>4.547935e+06</td>\n",
       "      <td>37</td>\n",
       "      <td>51</td>\n",
       "      <td>55512.009779</td>\n",
       "      <td>41.081399</td>\n",
       "      <td>-81.543362</td>\n",
       "    </tr>\n",
       "    <tr>\n",
       "      <th>4</th>\n",
       "      <td>E</td>\n",
       "      <td>-800</td>\n",
       "      <td>-1700</td>\n",
       "      <td>454958.574684</td>\n",
       "      <td>4.545735e+06</td>\n",
       "      <td>43</td>\n",
       "      <td>29</td>\n",
       "      <td>58615.679103</td>\n",
       "      <td>41.061616</td>\n",
       "      <td>-81.536059</td>\n",
       "    </tr>\n",
       "  </tbody>\n",
       "</table>\n",
       "</div>"
      ],
      "text/plain": [
       "  Location  xstd  ystd              x             y  row  col           dot  \\\n",
       "0        C -4200  3600  451558.574684  4.551035e+06    9   82  89884.586173   \n",
       "1        A -4000 -2800  451758.574684  4.544635e+06   11   18  81351.005871   \n",
       "2        B -3700   200  452058.574684  4.547635e+06   14   48  70068.683467   \n",
       "3        D -1400   500  454358.574684  4.547935e+06   37   51  55512.009779   \n",
       "4        E  -800 -1700  454958.574684  4.545735e+06   43   29  58615.679103   \n",
       "\n",
       "         lat        lon  \n",
       "0  41.109161 -81.576939  \n",
       "1  41.051524 -81.574055  \n",
       "2  41.078564 -81.570719  \n",
       "3  41.081399 -81.543362  \n",
       "4  41.061616 -81.536059  "
      ]
     },
     "execution_count": 142,
     "metadata": {},
     "output_type": "execute_result"
    }
   ],
   "source": [
    "pp=pd.read_csv(\"https://github.com/arodgers11/Coursera_Capstone/blob/master/potential_points.csv?raw=true\",sep=\",\",header=0)\n",
    "pp.head()"
   ]
  },
  {
   "cell_type": "markdown",
   "metadata": {},
   "source": [
    "Now we can add the candidate locations to our map and perform some more analysis."
   ]
  },
  {
   "cell_type": "code",
   "execution_count": 154,
   "metadata": {},
   "outputs": [
    {
     "data": {
      "text/html": [
       "<div style=\"width:100%;\"><div style=\"position:relative;width:100%;height:0;padding-bottom:60%;\"><iframe src=\"data:text/html;charset=utf-8;base64,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\" style=\"position:absolute;width:100%;height:100%;left:0;top:0;border:none !important;\" allowfullscreen webkitallowfullscreen mozallowfullscreen></iframe></div></div>"
      ],
      "text/plain": [
       "<folium.folium.Map at 0x267868ac2e8>"
      ]
     },
     "execution_count": 154,
     "metadata": {},
     "output_type": "execute_result"
    }
   ],
   "source": [
    "for name,lat,lon in zip(pp['Location'],pp['lat'],pp['lon']):\n",
    "    label = \"{}\".format(name)\n",
    "    label = folium.Popup(label, parse_html=True)\n",
    "    folium.CircleMarker(\n",
    "        [lat, lon],\n",
    "        radius=5,\n",
    "        popup=label,\n",
    "        color='#0000ff',\n",
    "        fill=True,\n",
    "        fill_color='#0000ff',\n",
    "        fill_opacity=0.5,\n",
    "        parse_html=False).add_to(map_akron)\n",
    "map_akron"
   ]
  },
  {
   "cell_type": "markdown",
   "metadata": {},
   "source": [
    "Looking at the map, we can see a couple of problems.\n",
    "* C,G,H are in the middle of parks\n",
    "* L is right next to the airport and a dense residential area\n",
    "* A,B,F,E are in residential areas  \n",
    "\n",
    "We can eliminate these locations as possibilities, so our new dataframe looks like this."
   ]
  },
  {
   "cell_type": "code",
   "execution_count": 156,
   "metadata": {},
   "outputs": [
    {
     "data": {
      "text/html": [
       "<div>\n",
       "<style scoped>\n",
       "    .dataframe tbody tr th:only-of-type {\n",
       "        vertical-align: middle;\n",
       "    }\n",
       "\n",
       "    .dataframe tbody tr th {\n",
       "        vertical-align: top;\n",
       "    }\n",
       "\n",
       "    .dataframe thead th {\n",
       "        text-align: right;\n",
       "    }\n",
       "</style>\n",
       "<table border=\"1\" class=\"dataframe\">\n",
       "  <thead>\n",
       "    <tr style=\"text-align: right;\">\n",
       "      <th></th>\n",
       "      <th>Location</th>\n",
       "      <th>xstd</th>\n",
       "      <th>ystd</th>\n",
       "      <th>x</th>\n",
       "      <th>y</th>\n",
       "      <th>row</th>\n",
       "      <th>col</th>\n",
       "      <th>dot</th>\n",
       "      <th>lat</th>\n",
       "      <th>lon</th>\n",
       "    </tr>\n",
       "  </thead>\n",
       "  <tbody>\n",
       "    <tr>\n",
       "      <th>0</th>\n",
       "      <td>I</td>\n",
       "      <td>1400</td>\n",
       "      <td>-1000</td>\n",
       "      <td>457158.574684</td>\n",
       "      <td>4.546435e+06</td>\n",
       "      <td>65</td>\n",
       "      <td>36</td>\n",
       "      <td>54737.694790</td>\n",
       "      <td>41.068040</td>\n",
       "      <td>-81.509925</td>\n",
       "    </tr>\n",
       "    <tr>\n",
       "      <th>1</th>\n",
       "      <td>D</td>\n",
       "      <td>-1400</td>\n",
       "      <td>500</td>\n",
       "      <td>454358.574684</td>\n",
       "      <td>4.547935e+06</td>\n",
       "      <td>37</td>\n",
       "      <td>51</td>\n",
       "      <td>55512.009779</td>\n",
       "      <td>41.081399</td>\n",
       "      <td>-81.543362</td>\n",
       "    </tr>\n",
       "    <tr>\n",
       "      <th>2</th>\n",
       "      <td>J</td>\n",
       "      <td>3100</td>\n",
       "      <td>-800</td>\n",
       "      <td>458858.574684</td>\n",
       "      <td>4.546635e+06</td>\n",
       "      <td>82</td>\n",
       "      <td>38</td>\n",
       "      <td>61116.588899</td>\n",
       "      <td>41.069929</td>\n",
       "      <td>-81.489705</td>\n",
       "    </tr>\n",
       "    <tr>\n",
       "      <th>3</th>\n",
       "      <td>K</td>\n",
       "      <td>3200</td>\n",
       "      <td>2700</td>\n",
       "      <td>458958.574684</td>\n",
       "      <td>4.550135e+06</td>\n",
       "      <td>83</td>\n",
       "      <td>73</td>\n",
       "      <td>65445.249006</td>\n",
       "      <td>41.101461</td>\n",
       "      <td>-81.488748</td>\n",
       "    </tr>\n",
       "  </tbody>\n",
       "</table>\n",
       "</div>"
      ],
      "text/plain": [
       "  Location  xstd  ystd              x             y  row  col           dot  \\\n",
       "0        I  1400 -1000  457158.574684  4.546435e+06   65   36  54737.694790   \n",
       "1        D -1400   500  454358.574684  4.547935e+06   37   51  55512.009779   \n",
       "2        J  3100  -800  458858.574684  4.546635e+06   82   38  61116.588899   \n",
       "3        K  3200  2700  458958.574684  4.550135e+06   83   73  65445.249006   \n",
       "\n",
       "         lat        lon  \n",
       "0  41.068040 -81.509925  \n",
       "1  41.081399 -81.543362  \n",
       "2  41.069929 -81.489705  \n",
       "3  41.101461 -81.488748  "
      ]
     },
     "execution_count": 156,
     "metadata": {},
     "output_type": "execute_result"
    }
   ],
   "source": [
    "badlocations=['A','B','C','E','F','G','H','L']\n",
    "ppfinal=pp.loc[~pp['Location'].isin(badlocations)]\n",
    "ppfinal=ppfinal.sort_values(by=['dot']).reset_index(drop=True)\n",
    "ppfinal"
   ]
  },
  {
   "cell_type": "code",
   "execution_count": 157,
   "metadata": {},
   "outputs": [
    {
     "data": {
      "text/html": [
       "<div style=\"width:100%;\"><div style=\"position:relative;width:100%;height:0;padding-bottom:60%;\"><iframe src=\"data:text/html;charset=utf-8;base64,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\" style=\"position:absolute;width:100%;height:100%;left:0;top:0;border:none !important;\" allowfullscreen webkitallowfullscreen mozallowfullscreen></iframe></div></div>"
      ],
      "text/plain": [
       "<folium.folium.Map at 0x2679243c780>"
      ]
     },
     "execution_count": 157,
     "metadata": {},
     "output_type": "execute_result"
    }
   ],
   "source": [
    "address='Akron, OH'\n",
    "geolocator = Nominatim(user_agent=\"akron_zips\")\n",
    "location = geolocator.geocode(address)\n",
    "latitude = location.latitude\n",
    "longitude = location.longitude\n",
    "map_akron_final = folium.Map(location=[latitude, longitude], zoom_start=12)\n",
    "\n",
    "for lat, lon, name in zip(ppfinal['lat'], ppfinal['lon'], ppfinal['Location']):\n",
    "    label = \"{}\".format(name)\n",
    "    label = folium.Popup(label, parse_html=True)\n",
    "    folium.CircleMarker(\n",
    "        [lat, lon],\n",
    "        radius=5,\n",
    "        popup=label,\n",
    "        color='#0000FF',\n",
    "        fill=True,\n",
    "        fill_color='#0000FF',\n",
    "        fill_opacity=0.5,\n",
    "        parse_html=False).add_to(map_akron_final)\n",
    "map_akron_final"
   ]
  },
  {
   "cell_type": "markdown",
   "metadata": {},
   "source": [
    "# Conclusion\n",
    "We now have a ranked list of possible locations for our client to consider. There are other things to consider, but the cleint did not provide a list. However, we can always revisit the problem with more information. The legal, financial, and logistical implications of each location are for the reader to consider. Additionally, many other locations can be considered, but not here. "
   ]
  },
  {
   "cell_type": "markdown",
   "metadata": {},
   "source": [
    "Blog post <a href='https://arodg000.wixsite.com/website'>here</a>"
   ]
  },
  {
   "cell_type": "code",
   "execution_count": 8,
   "metadata": {},
   "outputs": [
    {
     "data": {
      "text/plain": [
       "(41.5051613, -81.6934446)"
      ]
     },
     "execution_count": 8,
     "metadata": {},
     "output_type": "execute_result"
    }
   ],
   "source": [
    "latitude,longitude"
   ]
  },
  {
   "cell_type": "code",
   "execution_count": null,
   "metadata": {},
   "outputs": [],
   "source": []
  }
 ],
 "metadata": {
  "kernelspec": {
   "display_name": "Python 3",
   "language": "python",
   "name": "python3"
  },
  "language_info": {
   "codemirror_mode": {
    "name": "ipython",
    "version": 3
   },
   "file_extension": ".py",
   "mimetype": "text/x-python",
   "name": "python",
   "nbconvert_exporter": "python",
   "pygments_lexer": "ipython3",
   "version": "3.7.3"
  }
 },
 "nbformat": 4,
 "nbformat_minor": 2
}
