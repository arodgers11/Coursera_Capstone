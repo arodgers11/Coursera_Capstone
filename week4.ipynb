{
 "cells": [
  {
   "cell_type": "markdown",
   "metadata": {},
   "source": [
    "# The Battle of the Neighborhoods (Week 1)\n",
    "Andrew Rodf"
   ]
  },
  {
   "cell_type": "markdown",
   "metadata": {},
   "source": [
    "## Introduction\n",
    "<img align=\"right\" src=\"https://github.com/arodgers11/Coursera_Capstone/blob/master/akron.png?raw=true\" alt=\"Chinese Restaurants in Akron\"\n",
    "\ttitle=\"Chinese Restaurants in Akron\" width=\"675\"/>\n",
    "Akron, Ohio already has several Chinese restaurants, but our client wishes to open another one. Within 3.5 miles of the University of Akron campus, there are 10 such establishments  (The city is about 7 miles wide so we can roughly approximate it with a circle centered around something centrally located).  \n",
    "Chinese food is usually a little bit less expensive than other food, so our target customers may be lower income, but that is not a limiting factor because everyone likes Chinese food.  \n",
    "\n",
    "Akron doesn't really have neighborhoods, but rather suburbs. People living in these suburbs have many more food options, in the densely populated shopping centers surrounding the city or other nearby cities. We will try to determine which location for a new restaurant best serves the customers not only in Akron, but in the surrounding suburbs as well."
   ]
  },
  {
   "cell_type": "markdown",
   "metadata": {},
   "source": [
    "## Location\n",
    "An ideal location would be near other restaurants, so residents can have options and we can increase competition to drive business. There should also be lots of residences or workplaces nearby, to increase pedestrian traffic near our site."
   ]
  }
 ],
 "metadata": {
  "kernelspec": {
   "display_name": "Python 3",
   "language": "python",
   "name": "python3"
  },
  "language_info": {
   "codemirror_mode": {
    "name": "ipython",
    "version": 3
   },
   "file_extension": ".py",
   "mimetype": "text/x-python",
   "name": "python",
   "nbconvert_exporter": "python",
   "pygments_lexer": "ipython3",
   "version": "3.7.3"
  }
 },
 "nbformat": 4,
 "nbformat_minor": 2
}
